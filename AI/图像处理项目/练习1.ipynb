{
 "cells": [
  {
   "cell_type": "code",
   "execution_count": null,
   "metadata": {},
   "outputs": [],
   "source": [
    "%matplotlib inline"
   ]
  },
  {
   "cell_type": "markdown",
   "metadata": {},
   "source": [
    "\n",
    "Using simple NumPy operations for manipulating images\n",
    "=====================================================\n",
    "\n",
    "This script illustrates how to use basic NumPy operations, such as slicing,\n",
    "masking and fancy indexing, in order to modify the pixel values of an image.\n",
    "\n"
   ]
  },
  {
   "cell_type": "code",
   "execution_count": null,
   "metadata": {},
   "outputs": [],
   "source": [
    "import numpy as np\n",
    "from skimage import data\n",
    "import matplotlib.pyplot as plt\n",
    "\n",
    "camera = data.camera()\n",
    "camera[:10] = 0\n",
    "mask = camera < 87\n",
    "camera[mask] = 255\n",
    "inds_x = np.arange(len(camera))\n",
    "inds_y = (4 * inds_x) % len(camera)\n",
    "camera[inds_x, inds_y] = 0\n",
    "\n",
    "l_x, l_y = camera.shape[0], camera.shape[1]\n",
    "X, Y = np.ogrid[:l_x, :l_y]\n",
    "outer_disk_mask = (X - l_x / 2)**2 + (Y - l_y / 2)**2 > (l_x / 2)**2\n",
    "camera[outer_disk_mask] = 0\n",
    "\n",
    "plt.figure(figsize=(4, 4))\n",
    "plt.imshow(camera, cmap='gray')\n",
    "plt.axis('off')\n",
    "plt.show()"
   ]
  }
 ],
 "metadata": {
  "kernelspec": {
   "display_name": "Python 3",
   "language": "python",
   "name": "python3"
  },
  "language_info": {
   "codemirror_mode": {
    "name": "ipython",
    "version": 3
   },
   "file_extension": ".py",
   "mimetype": "text/x-python",
   "name": "python",
   "nbconvert_exporter": "python",
   "pygments_lexer": "ipython3",
   "version": "3.7.3"
  }
 },
 "nbformat": 4,
 "nbformat_minor": 1
}
