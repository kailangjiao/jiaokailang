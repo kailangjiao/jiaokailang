{
 "cells": [
  {
   "cell_type": "code",
   "execution_count": null,
   "metadata": {},
   "outputs": [],
   "source": [
    "%matplotlib inline"
   ]
  },
  {
   "cell_type": "markdown",
   "metadata": {},
   "source": [
    "\n",
    "# Using geometric transformations\n",
    "\n",
    "\n",
    "In this example, we will see how to use geometric transformations in the context\n",
    "of image processing.\n",
    "\n"
   ]
  },
  {
   "cell_type": "code",
   "execution_count": null,
   "metadata": {},
   "outputs": [],
   "source": [
    "import math\n",
    "import numpy as np\n",
    "import matplotlib.pyplot as plt\n",
    "\n",
    "from skimage import data\n",
    "from skimage import transform as tf"
   ]
  },
  {
   "cell_type": "markdown",
   "metadata": {},
   "source": [
    "Basics\n",
    "======\n",
    "\n",
    "Several different geometric transformation types are supported: similarity,\n",
    "affine, projective and polynomial.\n",
    "\n",
    "Geometric transformations can either be created using the explicit\n",
    "parameters (e.g. scale, shear, rotation and translation) or the\n",
    "transformation matrix:\n",
    "\n",
    "First we create a transformation using explicit parameters:\n",
    "\n"
   ]
  },
  {
   "cell_type": "code",
   "execution_count": null,
   "metadata": {},
   "outputs": [],
   "source": [
    "tform = tf.SimilarityTransform(scale=1, rotation=math.pi/2,\n",
    "                               translation=(0, 1))\n",
    "print(tform.params)"
   ]
  },
  {
   "cell_type": "markdown",
   "metadata": {},
   "source": [
    "Alternatively you can define a transformation by the transformation matrix\n",
    "itself:\n",
    "\n"
   ]
  },
  {
   "cell_type": "code",
   "execution_count": null,
   "metadata": {},
   "outputs": [],
   "source": [
    "matrix = tform.params.copy()\n",
    "matrix[1, 2] = 2\n",
    "tform2 = tf.SimilarityTransform(matrix)"
   ]
  },
  {
   "cell_type": "markdown",
   "metadata": {},
   "source": [
    "These transformation objects can then be used to apply forward and inverse\n",
    "coordinate transformations between the source and destination coordinate\n",
    "systems:\n",
    "\n"
   ]
  },
  {
   "cell_type": "code",
   "execution_count": null,
   "metadata": {},
   "outputs": [],
   "source": [
    "coord = [1, 0]\n",
    "print(tform2(coord))\n",
    "print(tform2.inverse(tform(coord)))"
   ]
  },
  {
   "cell_type": "markdown",
   "metadata": {},
   "source": [
    "Image warping\n",
    "=============\n",
    "\n",
    "Geometric transformations can also be used to warp images:\n",
    "\n"
   ]
  },
  {
   "cell_type": "code",
   "execution_count": null,
   "metadata": {},
   "outputs": [],
   "source": [
    "text = data.text()\n",
    "\n",
    "tform = tf.SimilarityTransform(scale=1, rotation=math.pi/4,\n",
    "                               translation=(text.shape[0]/2, -100))\n",
    "\n",
    "rotated = tf.warp(text, tform)\n",
    "back_rotated = tf.warp(rotated, tform.inverse)\n",
    "\n",
    "fig, ax = plt.subplots(nrows=3)\n",
    "\n",
    "ax[0].imshow(text, cmap=plt.cm.gray)\n",
    "ax[1].imshow(rotated, cmap=plt.cm.gray)\n",
    "ax[2].imshow(back_rotated, cmap=plt.cm.gray)\n",
    "\n",
    "for a in ax:\n",
    "    a.axis('off')\n",
    "\n",
    "plt.tight_layout()"
   ]
  },
  {
   "cell_type": "markdown",
   "metadata": {},
   "source": [
    "Parameter estimation\n",
    "====================\n",
    "\n",
    "In addition to the basic functionality mentioned above you can also\n",
    "estimate the parameters of a geometric transformation using the least-\n",
    "squares method.\n",
    "\n",
    "This can amongst other things be used for image registration or\n",
    "rectification, where you have a set of control points or\n",
    "homologous/corresponding points in two images.\n",
    "\n",
    "Let's assume we want to recognize letters on a photograph which was not\n",
    "taken from the front but at a certain angle. In the simplest case of a\n",
    "plane paper surface the letters are projectively distorted. Simple matching\n",
    "algorithms would not be able to match such symbols. One solution to this\n",
    "problem would be to warp the image so that the distortion is removed and\n",
    "then apply a matching algorithm:\n",
    "\n"
   ]
  },
  {
   "cell_type": "code",
   "execution_count": null,
   "metadata": {},
   "outputs": [],
   "source": [
    "text = data.text()\n",
    "\n",
    "src = np.array([[0, 0], [0, 50], [300, 50], [300, 0]])\n",
    "dst = np.array([[155, 15], [65, 40], [260, 130], [360, 95]])\n",
    "\n",
    "tform3 = tf.ProjectiveTransform()\n",
    "tform3.estimate(src, dst)\n",
    "warped = tf.warp(text, tform3, output_shape=(50, 300))\n",
    "\n",
    "fig, ax = plt.subplots(nrows=2, figsize=(8, 3))\n",
    "\n",
    "ax[0].imshow(text, cmap=plt.cm.gray)\n",
    "ax[0].plot(dst[:, 0], dst[:, 1], '.r')\n",
    "ax[1].imshow(warped, cmap=plt.cm.gray)\n",
    "\n",
    "for a in ax:\n",
    "    a.axis('off')\n",
    "\n",
    "plt.tight_layout()\n",
    "\n",
    "plt.show()"
   ]
  }
 ],
 "metadata": {
  "kernelspec": {
   "display_name": "Python 3",
   "language": "python",
   "name": "python3"
  },
  "language_info": {
   "codemirror_mode": {
    "name": "ipython",
    "version": 3
   },
   "file_extension": ".py",
   "mimetype": "text/x-python",
   "name": "python",
   "nbconvert_exporter": "python",
   "pygments_lexer": "ipython3",
   "version": "3.7.3"
  }
 },
 "nbformat": 4,
 "nbformat_minor": 1
}
