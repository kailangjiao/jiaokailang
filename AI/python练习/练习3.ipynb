{
 "cells": [
  {
   "cell_type": "code",
   "execution_count": 1,
   "metadata": {},
   "outputs": [
    {
     "data": {
      "text/plain": [
       "'assert'"
      ]
     },
     "execution_count": 1,
     "metadata": {},
     "output_type": "execute_result"
    }
   ],
   "source": [
    "#公有和私有\n",
    "#默认对象的属性和方法为公有，可通过.来访问\n",
    "class person:\n",
    "    name = 'assert'\n",
    "    \n",
    "p = person()\n",
    "p.name  #通过‘.’来访问对象的属性"
   ]
  },
  {
   "cell_type": "code",
   "execution_count": 2,
   "metadata": {},
   "outputs": [
    {
     "ename": "AttributeError",
     "evalue": "'person' object has no attribute '__name'",
     "output_type": "error",
     "traceback": [
      "\u001b[0;31m---------------------------------------------------------------------------\u001b[0m",
      "\u001b[0;31mAttributeError\u001b[0m                            Traceback (most recent call last)",
      "\u001b[0;32m<ipython-input-2-03b0dc6162a4>\u001b[0m in \u001b[0;36m<module>\u001b[0;34m\u001b[0m\n\u001b[1;32m      5\u001b[0m \u001b[0;34m\u001b[0m\u001b[0m\n\u001b[1;32m      6\u001b[0m \u001b[0mp\u001b[0m \u001b[0;34m=\u001b[0m \u001b[0mperson\u001b[0m\u001b[0;34m(\u001b[0m\u001b[0;34m)\u001b[0m\u001b[0;34m\u001b[0m\u001b[0;34m\u001b[0m\u001b[0m\n\u001b[0;32m----> 7\u001b[0;31m \u001b[0mp\u001b[0m\u001b[0;34m.\u001b[0m\u001b[0m__name\u001b[0m  \u001b[0;31m#通过‘.’来访问对象的属性\u001b[0m\u001b[0;34m\u001b[0m\u001b[0;34m\u001b[0m\u001b[0m\n\u001b[0m",
      "\u001b[0;31mAttributeError\u001b[0m: 'person' object has no attribute '__name'"
     ]
    }
   ],
   "source": [
    "#私有变量特征用name manging(名字改编)\n",
    "#私有变量定义：__变量/函数名\n",
    "class person:\n",
    "    __name = 'assert'\n",
    "    \n",
    "p = person()\n",
    "p.__name  #要访问此属性，则应从内"
   ]
  },
  {
   "cell_type": "code",
   "execution_count": 2,
   "metadata": {},
   "outputs": [
    {
     "data": {
      "text/plain": [
       "'assert'"
      ]
     },
     "execution_count": 2,
     "metadata": {},
     "output_type": "execute_result"
    }
   ],
   "source": [
    "class person:\n",
    "    __name = 'assert'\n",
    "    def getname(self):    #内部访问私有变量\n",
    "        return self.__name    \n",
    "p = person()\n",
    "p.getname()     #私有变量相当于：_类名__变量名"
   ]
  },
  {
   "cell_type": "code",
   "execution_count": 3,
   "metadata": {},
   "outputs": [
    {
     "data": {
      "text/plain": [
       "'assert'"
      ]
     },
     "execution_count": 3,
     "metadata": {},
     "output_type": "execute_result"
    }
   ],
   "source": [
    "p._person__name  #类变量是可以被外部调用的"
   ]
  },
  {
   "cell_type": "code",
   "execution_count": 17,
   "metadata": {},
   "outputs": [
    {
     "name": "stdout",
     "output_type": "stream",
     "text": [
      "assert\n"
     ]
    }
   ],
   "source": [
    "#继承：  定义：在类名后的（）中填入父类的名字\n",
    "class exist:   #define classification is father\n",
    "    def hello(self):\n",
    "        print('assert')\n",
    "        \n",
    "class feature(exist):  #define classification is son\n",
    "    pass\n",
    "\n",
    "p = exist()\n",
    "p.hello()"
   ]
  },
  {
   "cell_type": "code",
   "execution_count": 18,
   "metadata": {},
   "outputs": [
    {
     "name": "stdout",
     "output_type": "stream",
     "text": [
      "assert\n"
     ]
    }
   ],
   "source": [
    "class exist:   #define classification is father\n",
    "    def hello(self):\n",
    "        print('assert')\n",
    "        \n",
    "class feature(exist):  #define classification is son\n",
    "    pass\n",
    "\n",
    "c = feature()  #子类实例化\n",
    "c.hello()  #继承了父类的所有东西（方法和属性）"
   ]
  },
  {
   "cell_type": "code",
   "execution_count": 19,
   "metadata": {},
   "outputs": [
    {
     "name": "stdout",
     "output_type": "stream",
     "text": [
      "vector\n"
     ]
    }
   ],
   "source": [
    "#子类中的方法和属性若与父类同名，则会自动覆盖父类对应的方法和属性\n",
    "class feature(exist):\n",
    "    def hello(self):\n",
    "        print('vector')\n",
    "        \n",
    "c = feature()\n",
    "c.hello()    #对父类不受影响"
   ]
  },
  {
   "cell_type": "code",
   "execution_count": 1,
   "metadata": {},
   "outputs": [
    {
     "name": "stdout",
     "output_type": "stream",
     "text": [
      "my position is : 8 3\n"
     ]
    }
   ],
   "source": [
    "import random as rd\n",
    "class vector:\n",
    "    def __init__(self):\n",
    "        self.x = rd.randint(0,10)\n",
    "        self.y = rd.randint(0,10)\n",
    "    def remove(self):  #定义方法\n",
    "        self.x -= 1    #一路向西\n",
    "        print('my position is :',self.x,self.y)   #打印移动后的位置\n",
    "class goldfish(vector):  #goldfish(金鱼)   #继承基类 ，只需继承生成的位置，移动\n",
    "    pass\n",
    "class carp(vector):  #carp(鲤鱼)\n",
    "    pass\n",
    "class salmon(vector):   #salmon(三文鱼)\n",
    "    pass\n",
    "class shark(vector):   #shark(鲨鱼)\n",
    "    def __init__(self):\n",
    "        self.hungry = True\n",
    "        \n",
    "    def eat(self):\n",
    "        if self.hungry:\n",
    "            print('hungry')\n",
    "            self.hungry = False   #不饿了\n",
    "        else:\n",
    "            print('vector')\n",
    "fish = vector()\n",
    "fish.remove()"
   ]
  },
  {
   "cell_type": "code",
   "execution_count": 31,
   "metadata": {},
   "outputs": [
    {
     "name": "stdout",
     "output_type": "stream",
     "text": [
      "my position is : -2 3\n"
     ]
    }
   ],
   "source": [
    "goldfish = goldfish()\n",
    "gofish.remove()"
   ]
  },
  {
   "cell_type": "code",
   "execution_count": 2,
   "metadata": {},
   "outputs": [
    {
     "name": "stdout",
     "output_type": "stream",
     "text": [
      "hungry\n"
     ]
    }
   ],
   "source": [
    "shark = shark()\n",
    "shark.eat()"
   ]
  },
  {
   "cell_type": "code",
   "execution_count": null,
   "metadata": {},
   "outputs": [],
   "source": []
  },
  {
   "cell_type": "code",
   "execution_count": null,
   "metadata": {},
   "outputs": [],
   "source": []
  },
  {
   "cell_type": "code",
   "execution_count": null,
   "metadata": {},
   "outputs": [],
   "source": []
  },
  {
   "cell_type": "code",
   "execution_count": 40,
   "metadata": {},
   "outputs": [
    {
     "name": "stdout",
     "output_type": "stream",
     "text": [
      "sequential\n"
     ]
    }
   ],
   "source": [
    "#多重继承:有点：同时继承多个父类, 缺点：荣以造成代码混乱，产生不可遇见的bug所以尽量避免\n",
    "class vector:\n",
    "    def shark(self):\n",
    "        print(\"sequential\")\n",
    "        \n",
    "class classification:\n",
    "    def binary(self):\n",
    "        print(\"feature\")\n",
    "        \n",
    "class exist(vector,classification):\n",
    "    pass\n",
    "c = exist()\n",
    "c.shark()"
   ]
  },
  {
   "cell_type": "code",
   "execution_count": 6,
   "metadata": {},
   "outputs": [],
   "source": [
    "#组合  :把横向关系的类组合到一起，纵向关系的用继承\n",
    "class totle:\n",
    "    def __init__(self,x):\n",
    "        self.num = x  #传入x参数，参数表示有多少个乌龟生成\n",
    "class fish:\n",
    "    def __init__(self,y):\n",
    "        self.num = y\n",
    "class pool:   #水池\n",
    "    def __init__(self,x,y):  #初始化.  x个乌龟，y个鱼\n",
    "        self.totle = totle(x)  #将需要的类放进去传入x并实例化一个乌龟\n",
    "        self.fish = fish(y)\n",
    "    def print_num(self):\n",
    "        print('遇有多少跳',self.totle.num,self.fish.num) \n",
    "#self.totle是不对的，因为他得到的是totle实例化后的对象，而要得到一个整形变量，\n",
    "#所以要加.num"
   ]
  },
  {
   "cell_type": "code",
   "execution_count": 7,
   "metadata": {},
   "outputs": [
    {
     "name": "stdout",
     "output_type": "stream",
     "text": [
      "遇有多少跳 1 10\n"
     ]
    }
   ],
   "source": [
    "pool = pool(1,10)\n",
    "pool.print_num()"
   ]
  },
  {
   "cell_type": "code",
   "execution_count": 19,
   "metadata": {},
   "outputs": [
    {
     "data": {
      "text/plain": [
       "0"
      ]
     },
     "execution_count": 19,
     "metadata": {},
     "output_type": "execute_result"
    }
   ],
   "source": [
    "#mix-in  :混入\n",
    "#类、类对象和实例对象\n",
    "class C:   #定义一个C类，写完定义后就变为一个类对象，因为python里都是对象，方法也为对象\n",
    "    count = 0  #count初始化为0\n",
    "    \n",
    "a = C()   #实例化一个a\n",
    "b = C()\n",
    "c = C()\n",
    "a.count\n"
   ]
  },
  {
   "cell_type": "code",
   "execution_count": 20,
   "metadata": {},
   "outputs": [
    {
     "data": {
      "text/plain": [
       "10"
      ]
     },
     "execution_count": 20,
     "metadata": {},
     "output_type": "execute_result"
    }
   ],
   "source": [
    "c.count += 10\n",
    "c.count   "
   ]
  },
  {
   "cell_type": "code",
   "execution_count": 21,
   "metadata": {},
   "outputs": [
    {
     "data": {
      "text/plain": [
       "0"
      ]
     },
     "execution_count": 21,
     "metadata": {},
     "output_type": "execute_result"
    }
   ],
   "source": [
    "a.count"
   ]
  },
  {
   "cell_type": "code",
   "execution_count": 22,
   "metadata": {},
   "outputs": [
    {
     "data": {
      "text/plain": [
       "0"
      ]
     },
     "execution_count": 22,
     "metadata": {},
     "output_type": "execute_result"
    }
   ],
   "source": [
    "C.count   #类对象.count     #定义一个C类，写完定义后就变为一个类对象，因为python里都是对象，方法也为对象"
   ]
  },
  {
   "cell_type": "code",
   "execution_count": 23,
   "metadata": {},
   "outputs": [
    {
     "data": {
      "text/plain": [
       "100"
      ]
     },
     "execution_count": 23,
     "metadata": {},
     "output_type": "execute_result"
    }
   ],
   "source": [
    "C.count += 100\n",
    "a.count"
   ]
  },
  {
   "cell_type": "code",
   "execution_count": 24,
   "metadata": {},
   "outputs": [
    {
     "data": {
      "text/plain": [
       "100"
      ]
     },
     "execution_count": 24,
     "metadata": {},
     "output_type": "execute_result"
    }
   ],
   "source": [
    "b.count"
   ]
  },
  {
   "cell_type": "code",
   "execution_count": 25,
   "metadata": {},
   "outputs": [
    {
     "data": {
      "text/plain": [
       "10"
      ]
     },
     "execution_count": 25,
     "metadata": {},
     "output_type": "execute_result"
    }
   ],
   "source": [
    "c.count\n",
    "##类定义C  类中定义的属性，她们都是静态属性，如类C中的count，类属性与类对象相互绑定的，他们不会依赖于实例对象，所以\n",
    "#当c.count += 10时，他不会影响到类对象C，他只是改变了c自身，因为c.count += 10时，实例对象c只是多出了一个实例属性count，\n",
    "#他将类对象给覆盖了，所以只看到了上一层的实例属性，而看不到它的类属性\n",
    "#类对象C   \n",
    "\n",
    "#实例对象a,b,c"
   ]
  },
  {
   "cell_type": "code",
   "execution_count": 2,
   "metadata": {},
   "outputs": [
    {
     "name": "stdout",
     "output_type": "stream",
     "text": [
      "assert\n"
     ]
    }
   ],
   "source": [
    "#属性的名字跟方法相同，属性会覆盖方法\n",
    "class C:\n",
    "    def x(self):\n",
    "        print('assert')\n",
    "        \n",
    "c = C()\n",
    "c.x()"
   ]
  },
  {
   "cell_type": "code",
   "execution_count": 3,
   "metadata": {},
   "outputs": [
    {
     "data": {
      "text/plain": [
       "1"
      ]
     },
     "execution_count": 3,
     "metadata": {},
     "output_type": "execute_result"
    }
   ],
   "source": [
    "c.x = 1    #表示实例化c .x表示创建x属性，它属于实例对象c的属性 由于python的变量不需声明，所以直接赋值。相当于定义了一个属性\n",
    "c.x"
   ]
  },
  {
   "cell_type": "code",
   "execution_count": 4,
   "metadata": {},
   "outputs": [
    {
     "ename": "TypeError",
     "evalue": "'int' object is not callable",
     "output_type": "error",
     "traceback": [
      "\u001b[0;31m---------------------------------------------------------------------------\u001b[0m",
      "\u001b[0;31mTypeError\u001b[0m                                 Traceback (most recent call last)",
      "\u001b[0;32m<ipython-input-4-03cbc961c440>\u001b[0m in \u001b[0;36m<module>\u001b[0;34m\u001b[0m\n\u001b[0;32m----> 1\u001b[0;31m \u001b[0mc\u001b[0m\u001b[0;34m.\u001b[0m\u001b[0mx\u001b[0m\u001b[0;34m(\u001b[0m\u001b[0;34m)\u001b[0m\u001b[0;34m\u001b[0m\u001b[0;34m\u001b[0m\u001b[0m\n\u001b[0m",
      "\u001b[0;31mTypeError\u001b[0m: 'int' object is not callable"
     ]
    }
   ],
   "source": [
    "c.x()"
   ]
  },
  {
   "cell_type": "code",
   "execution_count": null,
   "metadata": {},
   "outputs": [],
   "source": [
    "#注意：\n",
    "#不要在一个类里面定义所有想到的方法和属性，尽量用继承和组合来扩展类\n",
    "#属性用名词，方法用动词"
   ]
  },
  {
   "cell_type": "code",
   "execution_count": 5,
   "metadata": {},
   "outputs": [
    {
     "name": "stdout",
     "output_type": "stream",
     "text": [
      "assert\n"
     ]
    }
   ],
   "source": [
    "#绑定：方法需要有实例才能被调用\n",
    "class DB:\n",
    "    def printDB():   #没有self，未绑定  ，   #self要接收绑定\n",
    "        print('assert')\n",
    "        \n",
    "        \n",
    "DB.printDB()   #printDB未绑定，但可调用，因为DB是类，也是类对象，所以可用类对象.来调用\n"
   ]
  },
  {
   "cell_type": "code",
   "execution_count": 6,
   "metadata": {},
   "outputs": [
    {
     "ename": "TypeError",
     "evalue": "printDB() takes 0 positional arguments but 1 was given",
     "output_type": "error",
     "traceback": [
      "\u001b[0;31m---------------------------------------------------------------------------\u001b[0m",
      "\u001b[0;31mTypeError\u001b[0m                                 Traceback (most recent call last)",
      "\u001b[0;32m<ipython-input-6-5f0f877d0db4>\u001b[0m in \u001b[0;36m<module>\u001b[0;34m\u001b[0m\n\u001b[1;32m      1\u001b[0m \u001b[0;31m#若类DB被实例化后，此对象是调用不到的\u001b[0m\u001b[0;34m\u001b[0m\u001b[0;34m\u001b[0m\u001b[0;34m\u001b[0m\u001b[0m\n\u001b[1;32m      2\u001b[0m \u001b[0mdb\u001b[0m \u001b[0;34m=\u001b[0m \u001b[0mDB\u001b[0m\u001b[0;34m(\u001b[0m\u001b[0;34m)\u001b[0m\u001b[0;34m\u001b[0m\u001b[0;34m\u001b[0m\u001b[0m\n\u001b[0;32m----> 3\u001b[0;31m \u001b[0mdb\u001b[0m\u001b[0;34m.\u001b[0m\u001b[0mprintDB\u001b[0m\u001b[0;34m(\u001b[0m\u001b[0;34m)\u001b[0m\u001b[0;34m\u001b[0m\u001b[0;34m\u001b[0m\u001b[0m\n\u001b[0m",
      "\u001b[0;31mTypeError\u001b[0m: printDB() takes 0 positional arguments but 1 was given"
     ]
    }
   ],
   "source": [
    "#若类DB被实例化后，此对象是调用不到的\n",
    "db = DB()\n",
    "db.printDB()"
   ]
  },
  {
   "cell_type": "code",
   "execution_count": 7,
   "metadata": {},
   "outputs": [
    {
     "ename": "TypeError",
     "evalue": "printDB() takes 0 positional arguments but 2 were given",
     "output_type": "error",
     "traceback": [
      "\u001b[0;31m---------------------------------------------------------------------------\u001b[0m",
      "\u001b[0;31mTypeError\u001b[0m                                 Traceback (most recent call last)",
      "\u001b[0;32m<ipython-input-7-8d89f7e15509>\u001b[0m in \u001b[0;36m<module>\u001b[0;34m\u001b[0m\n\u001b[1;32m      1\u001b[0m \u001b[0;31m#实际上他是这样调用的\u001b[0m\u001b[0;34m\u001b[0m\u001b[0;34m\u001b[0m\u001b[0;34m\u001b[0m\u001b[0m\n\u001b[0;32m----> 2\u001b[0;31m \u001b[0mdb\u001b[0m\u001b[0;34m.\u001b[0m\u001b[0mprintDB\u001b[0m\u001b[0;34m(\u001b[0m\u001b[0mdb\u001b[0m\u001b[0;34m)\u001b[0m \u001b[0;31m#而应当将db传给self\u001b[0m\u001b[0;34m\u001b[0m\u001b[0;34m\u001b[0m\u001b[0m\n\u001b[0m",
      "\u001b[0;31mTypeError\u001b[0m: printDB() takes 0 positional arguments but 2 were given"
     ]
    }
   ],
   "source": [
    "#实际上他是这样调用的\n",
    "db.printDB(db) #而应当将db传给self\n"
   ]
  },
  {
   "cell_type": "code",
   "execution_count": 11,
   "metadata": {},
   "outputs": [
    {
     "data": {
      "text/plain": [
       "{}"
      ]
     },
     "execution_count": 11,
     "metadata": {},
     "output_type": "execute_result"
    }
   ],
   "source": [
    "class CC:\n",
    "    def setXY(self,x,y):\n",
    "        self.x = x  #只有当程序退出时，变量才会被释放，所以在编程中，应尽量用实例属性，如self.x,self.y,  其中：\n",
    "           #self相当于变量的名字，.x相当于属于此实例的空间，而不要使用类属性，因为它通常用来跟中与类相关的值\n",
    "        self.y = y\n",
    "    def printXY(self):\n",
    "        print(self.x,self.y)\n",
    "        \n",
    "dd = CC()\n",
    "dd.__dict__  #__dict__可查看dd的属性，发现为字典，且没东西,即它里面没有属性"
   ]
  },
  {
   "cell_type": "code",
   "execution_count": 12,
   "metadata": {},
   "outputs": [
    {
     "data": {
      "text/plain": [
       "mappingproxy({'__module__': '__main__',\n",
       "              'setXY': <function __main__.CC.setXY(self, x, y)>,\n",
       "              'printXY': <function __main__.CC.printXY(self)>,\n",
       "              '__dict__': <attribute '__dict__' of 'CC' objects>,\n",
       "              '__weakref__': <attribute '__weakref__' of 'CC' objects>,\n",
       "              '__doc__': None})"
      ]
     },
     "execution_count": 12,
     "metadata": {},
     "output_type": "execute_result"
    }
   ],
   "source": [
    "CC.__dict__ #返回字典，字典中只有实例对象属性，没有类对象和特殊属性，即那些魔法方法\n",
    "#键表示属性名，值表示属性对应的值\n",
    "#类对象有setXYh和printXY方法（静态的绑定在类对象里），而dd没有"
   ]
  },
  {
   "cell_type": "code",
   "execution_count": 14,
   "metadata": {},
   "outputs": [
    {
     "data": {
      "text/plain": [
       "{'x': 4, 'y': 5}"
      ]
     },
     "execution_count": 14,
     "metadata": {},
     "output_type": "execute_result"
    }
   ],
   "source": [
    "dd.setXY(4,5)\n",
    "dd.__dict__    #里面的属性仅属于对象dd"
   ]
  },
  {
   "cell_type": "code",
   "execution_count": 15,
   "metadata": {},
   "outputs": [
    {
     "data": {
      "text/plain": [
       "mappingproxy({'__module__': '__main__',\n",
       "              'setXY': <function __main__.CC.setXY(self, x, y)>,\n",
       "              'printXY': <function __main__.CC.printXY(self)>,\n",
       "              '__dict__': <attribute '__dict__' of 'CC' objects>,\n",
       "              '__weakref__': <attribute '__weakref__' of 'CC' objects>,\n",
       "              '__doc__': None})"
      ]
     },
     "execution_count": 15,
     "metadata": {},
     "output_type": "execute_result"
    }
   ],
   "source": [
    "CC.__dict__  #可看到它里面没有dd的属性，因为有self绑定。当dd调用setXY时，他是dd.setXY(dd,4,5)这样传入的，所以在赋值时，\n",
    "#self=dd，即dd.x=4,dd.y=5,所以4、5是存入到实例对象的空间里的，所以dd里面的属性仅属于对象dd的"
   ]
  },
  {
   "cell_type": "code",
   "execution_count": 16,
   "metadata": {},
   "outputs": [],
   "source": [
    "del CC"
   ]
  },
  {
   "cell_type": "code",
   "execution_count": 17,
   "metadata": {},
   "outputs": [
    {
     "ename": "NameError",
     "evalue": "name 'CC' is not defined",
     "output_type": "error",
     "traceback": [
      "\u001b[0;31m---------------------------------------------------------------------------\u001b[0m",
      "\u001b[0;31mNameError\u001b[0m                                 Traceback (most recent call last)",
      "\u001b[0;32m<ipython-input-17-7abb866c4660>\u001b[0m in \u001b[0;36m<module>\u001b[0;34m\u001b[0m\n\u001b[0;32m----> 1\u001b[0;31m \u001b[0mdd\u001b[0m \u001b[0;34m=\u001b[0m \u001b[0mCC\u001b[0m\u001b[0;34m(\u001b[0m\u001b[0;34m)\u001b[0m\u001b[0;34m\u001b[0m\u001b[0;34m\u001b[0m\u001b[0m\n\u001b[0m",
      "\u001b[0;31mNameError\u001b[0m: name 'CC' is not defined"
     ]
    }
   ],
   "source": [
    "dd = CC()"
   ]
  },
  {
   "cell_type": "code",
   "execution_count": 18,
   "metadata": {},
   "outputs": [
    {
     "name": "stdout",
     "output_type": "stream",
     "text": [
      "4 5\n"
     ]
    }
   ],
   "source": [
    "dd.printXY()   #因为类中定义的属性及方法是静态变量，即使类对象被删除了，他们依然是存放在内存中的\n"
   ]
  },
  {
   "cell_type": "code",
   "execution_count": null,
   "metadata": {},
   "outputs": [],
   "source": [
    "#类的BIF\n",
    "issubclass(class,classinfo)  #class为classinfo的子类，则返回True\n",
    "#classinfo可为一个元组（由元组组成）\n"
   ]
  },
  {
   "cell_type": "code",
   "execution_count": 20,
   "metadata": {},
   "outputs": [
    {
     "data": {
      "text/plain": [
       "True"
      ]
     },
     "execution_count": 20,
     "metadata": {},
     "output_type": "execute_result"
    }
   ],
   "source": [
    "class A:\n",
    "    pass\n",
    "class B(A):\n",
    "    pass\n",
    "    \n",
    "issubclass(B,A)"
   ]
  },
  {
   "cell_type": "code",
   "execution_count": 21,
   "metadata": {},
   "outputs": [
    {
     "data": {
      "text/plain": [
       "True"
      ]
     },
     "execution_count": 21,
     "metadata": {},
     "output_type": "execute_result"
    }
   ],
   "source": [
    "issubclass(B,B) #自身为自身子类"
   ]
  },
  {
   "cell_type": "code",
   "execution_count": 22,
   "metadata": {},
   "outputs": [
    {
     "data": {
      "text/plain": [
       "True"
      ]
     },
     "execution_count": 22,
     "metadata": {},
     "output_type": "execute_result"
    }
   ],
   "source": [
    "issubclass(B,object)  #objict是所有类的基类，所有类无论有没有写基类，默认继承与object"
   ]
  },
  {
   "cell_type": "code",
   "execution_count": 23,
   "metadata": {},
   "outputs": [
    {
     "data": {
      "text/plain": [
       "False"
      ]
     },
     "execution_count": 23,
     "metadata": {},
     "output_type": "execute_result"
    }
   ],
   "source": [
    "class C:\n",
    "    pass\n",
    "issubclass(B,C)"
   ]
  },
  {
   "cell_type": "code",
   "execution_count": null,
   "metadata": {},
   "outputs": [],
   "source": [
    "isinstance(object,classinfo)  #用于检查一个实例对象是否一个类的"
   ]
  },
  {
   "cell_type": "code",
   "execution_count": 24,
   "metadata": {},
   "outputs": [
    {
     "data": {
      "text/plain": [
       "True"
      ]
     },
     "execution_count": 24,
     "metadata": {},
     "output_type": "execute_result"
    }
   ],
   "source": [
    "b1 = B()\n",
    "isinstance(b1,B)"
   ]
  },
  {
   "cell_type": "code",
   "execution_count": 25,
   "metadata": {},
   "outputs": [
    {
     "data": {
      "text/plain": [
       "True"
      ]
     },
     "execution_count": 25,
     "metadata": {},
     "output_type": "execute_result"
    }
   ],
   "source": [
    "isinstance(b1,A) #B继承A"
   ]
  },
  {
   "cell_type": "code",
   "execution_count": 26,
   "metadata": {},
   "outputs": [
    {
     "data": {
      "text/plain": [
       "True"
      ]
     },
     "execution_count": 26,
     "metadata": {},
     "output_type": "execute_result"
    }
   ],
   "source": [
    "isinstance(b1,(A,B,C))  #在元组中巡回对应"
   ]
  },
  {
   "cell_type": "code",
   "execution_count": 2,
   "metadata": {},
   "outputs": [
    {
     "data": {
      "text/plain": [
       "True"
      ]
     },
     "execution_count": 2,
     "metadata": {},
     "output_type": "execute_result"
    }
   ],
   "source": [
    "#attr:它是attribute（属性）的缩写\n",
    "#hasattr(object,name)    name要用字符串括起\n",
    "class C:\n",
    "    def __init__(self,x=0):   #初始化方法\n",
    "        self.x = x\n",
    "    \n",
    "c1 = C()\n",
    "hasattr(c1,\"x\")   #判断x是否为c1的属性  "
   ]
  },
  {
   "cell_type": "code",
   "execution_count": 4,
   "metadata": {},
   "outputs": [
    {
     "data": {
      "text/plain": [
       "0"
      ]
     },
     "execution_count": 4,
     "metadata": {},
     "output_type": "execute_result"
    }
   ],
   "source": [
    "#getattr(object,name[,default])\n",
    "getattr(c1,'x')     #返回对象指定的属性值"
   ]
  },
  {
   "cell_type": "code",
   "execution_count": 5,
   "metadata": {},
   "outputs": [
    {
     "ename": "AttributeError",
     "evalue": "'C' object has no attribute 'y'",
     "output_type": "error",
     "traceback": [
      "\u001b[0;31m---------------------------------------------------------------------------\u001b[0m",
      "\u001b[0;31mAttributeError\u001b[0m                            Traceback (most recent call last)",
      "\u001b[0;32m<ipython-input-5-269e417928b6>\u001b[0m in \u001b[0;36m<module>\u001b[0;34m\u001b[0m\n\u001b[0;32m----> 1\u001b[0;31m \u001b[0mgetattr\u001b[0m\u001b[0;34m(\u001b[0m\u001b[0mc1\u001b[0m\u001b[0;34m,\u001b[0m\u001b[0;34m'y'\u001b[0m\u001b[0;34m)\u001b[0m\u001b[0;34m\u001b[0m\u001b[0;34m\u001b[0m\u001b[0m\n\u001b[0m",
      "\u001b[0;31mAttributeError\u001b[0m: 'C' object has no attribute 'y'"
     ]
    }
   ],
   "source": [
    "getattr(c1,'y')"
   ]
  },
  {
   "cell_type": "code",
   "execution_count": 6,
   "metadata": {},
   "outputs": [
    {
     "data": {
      "text/plain": [
       "'assert'"
      ]
     },
     "execution_count": 6,
     "metadata": {},
     "output_type": "execute_result"
    }
   ],
   "source": [
    "getattr(c1,'y','assert') #返回对象指定的属性值，若属性值不存在，则打印default参数，没有，则抛出异常"
   ]
  },
  {
   "cell_type": "code",
   "execution_count": 11,
   "metadata": {},
   "outputs": [
    {
     "data": {
      "text/plain": [
       "'default'"
      ]
     },
     "execution_count": 11,
     "metadata": {},
     "output_type": "execute_result"
    }
   ],
   "source": [
    "#setattr(object,name,value)\n",
    "setattr(c1,'y','default')  #新建一个属性y，其值为default， 与getattr相似\n",
    "getattr(c1,'y','assert')"
   ]
  },
  {
   "cell_type": "code",
   "execution_count": 12,
   "metadata": {},
   "outputs": [],
   "source": [
    "#delattr(object,name) 与setattr相反\n",
    "delattr(c1,'y')   "
   ]
  },
  {
   "cell_type": "code",
   "execution_count": 13,
   "metadata": {},
   "outputs": [
    {
     "ename": "AttributeError",
     "evalue": "y",
     "output_type": "error",
     "traceback": [
      "\u001b[0;31m---------------------------------------------------------------------------\u001b[0m",
      "\u001b[0;31mAttributeError\u001b[0m                            Traceback (most recent call last)",
      "\u001b[0;32m<ipython-input-13-4229ead2dc9b>\u001b[0m in \u001b[0;36m<module>\u001b[0;34m\u001b[0m\n\u001b[0;32m----> 1\u001b[0;31m \u001b[0mdelattr\u001b[0m\u001b[0;34m(\u001b[0m\u001b[0mc1\u001b[0m\u001b[0;34m,\u001b[0m\u001b[0;34m'y'\u001b[0m\u001b[0;34m)\u001b[0m\u001b[0;34m\u001b[0m\u001b[0;34m\u001b[0m\u001b[0m\n\u001b[0m",
      "\u001b[0;31mAttributeError\u001b[0m: y"
     ]
    }
   ],
   "source": [
    "delattr(c1,'y')#没有default,所以会抛出异常"
   ]
  },
  {
   "cell_type": "code",
   "execution_count": 14,
   "metadata": {},
   "outputs": [
    {
     "data": {
      "text/plain": [
       "10"
      ]
     },
     "execution_count": 14,
     "metadata": {},
     "output_type": "execute_result"
    }
   ],
   "source": [
    "#property(fget = None,fset=None,fdel=None,doc=None)   #property(财产)\n",
    "#以属性的方式去访问属性\n",
    "class C:\n",
    "    def __init__(self,size=10):\n",
    "        self.size = size   #定义实例化属性\n",
    "    def getsize(self):  #获得属性方法的名字\n",
    "        return self.size\n",
    "    def setsize(self,value):  #重设，设置属性方法名字\n",
    "        self.size = value\n",
    "    def delsize(self):   #删除属性方法的名字\n",
    "        del self.size\n",
    "    x = property(getsize,setsize,delsize)\n",
    "    #通过property将x与 size挂钩\n",
    "c1 = C()\n",
    "c1.x"
   ]
  },
  {
   "cell_type": "code",
   "execution_count": 16,
   "metadata": {},
   "outputs": [
    {
     "data": {
      "text/plain": [
       "18"
      ]
     },
     "execution_count": 16,
     "metadata": {},
     "output_type": "execute_result"
    }
   ],
   "source": [
    "c1.x = 18\n",
    "c1.x"
   ]
  },
  {
   "cell_type": "code",
   "execution_count": 17,
   "metadata": {},
   "outputs": [
    {
     "data": {
      "text/plain": [
       "18"
      ]
     },
     "execution_count": 17,
     "metadata": {},
     "output_type": "execute_result"
    }
   ],
   "source": [
    "c1.size"
   ]
  },
  {
   "cell_type": "code",
   "execution_count": 18,
   "metadata": {},
   "outputs": [
    {
     "data": {
      "text/plain": [
       "18"
      ]
     },
     "execution_count": 18,
     "metadata": {},
     "output_type": "execute_result"
    }
   ],
   "source": [
    "c1.getsize()"
   ]
  },
  {
   "cell_type": "code",
   "execution_count": 19,
   "metadata": {},
   "outputs": [],
   "source": [
    "del c1.x"
   ]
  },
  {
   "cell_type": "code",
   "execution_count": 20,
   "metadata": {},
   "outputs": [
    {
     "ename": "AttributeError",
     "evalue": "'C' object has no attribute 'size'",
     "output_type": "error",
     "traceback": [
      "\u001b[0;31m---------------------------------------------------------------------------\u001b[0m",
      "\u001b[0;31mAttributeError\u001b[0m                            Traceback (most recent call last)",
      "\u001b[0;32m<ipython-input-20-973081595cfd>\u001b[0m in \u001b[0;36m<module>\u001b[0;34m\u001b[0m\n\u001b[0;32m----> 1\u001b[0;31m \u001b[0mc1\u001b[0m\u001b[0;34m.\u001b[0m\u001b[0msize\u001b[0m\u001b[0;34m\u001b[0m\u001b[0;34m\u001b[0m\u001b[0m\n\u001b[0m",
      "\u001b[0;31mAttributeError\u001b[0m: 'C' object has no attribute 'size'"
     ]
    }
   ],
   "source": [
    "c1.size"
   ]
  },
  {
   "cell_type": "code",
   "execution_count": null,
   "metadata": {},
   "outputs": [],
   "source": [
    "#属性访问也可以用魔法方法来管理，通过对相应的魔法方法的重写，可随意控制对象的属性访问\n",
    "#__getattr__(self,name):定义当用户试图获取一个不存在的属性时的行为 name为属性名\n",
    "#__getatribute__(self,name)：定义当该类的属性被访问时的行为  无论是否存在\n",
    "#__setattr__(self,name,value)：定义当一个属性被设置时的行为\n",
    "#__delattr__(self,name)：定义当一个属性被删除时的行为"
   ]
  },
  {
   "cell_type": "code",
   "execution_count": 14,
   "metadata": {},
   "outputs": [
    {
     "name": "stdout",
     "output_type": "stream",
     "text": [
      "getattribute\n",
      "getattr\n"
     ]
    }
   ],
   "source": [
    "#这几个方法等同于拦截器，条件触发时直接跳转执行\n",
    "class C:   #class无（）则默认父类是object\n",
    "    def __getattribute__(self,name):#它在打印getattribute后要重置getattribute的魔法方法，所\n",
    "        print('getattribute')#以要调用它的父类，否则getattr方法将不被执行\n",
    "        #getattribute方法作用：获取类中字典的key，若存在则返回value，不存在则调用getattr\n",
    "        return super().__getattribute__(name)  #返回c.x\n",
    "    #super:自动去找父类，基类超类。此处没有继承，则它默认继承object类，并调\n",
    "    #用object的getattribute方法\n",
    "    #基类的方法就是系统自带的魔法方法\n",
    "    def __getattr__(self,name):  #重写getattr没调用基类，所以没报错，即没用基类的getattr\n",
    "        print('getattr')     #且getattribute比getattr优先级告\n",
    "        #super().__getattribute__(name)  \n",
    "    def __setattr__(self,name,value):\n",
    "        print('setattr')\n",
    "        super().__setattr__(name,value)  #super用来继承父类的语法规则\n",
    "    def __delattr__(self,name):\n",
    "        print('delattr')\n",
    "        super().__delattr__(name)\n",
    "    \n",
    "c = C()   #C类和C对象没有任何的属性\n",
    "c.x\n",
    "#二者用来访问属性，但getattribute比getattr优先级告,且getattr是在无属性时才被调用"
   ]
  },
  {
   "cell_type": "code",
   "execution_count": 35,
   "metadata": {},
   "outputs": [
    {
     "name": "stdout",
     "output_type": "stream",
     "text": [
      "setattr\n"
     ]
    }
   ],
   "source": [
    "c.x = 1  #对象将有属了，则调用setattr"
   ]
  },
  {
   "cell_type": "code",
   "execution_count": 36,
   "metadata": {},
   "outputs": [
    {
     "name": "stdout",
     "output_type": "stream",
     "text": [
      "getattribute\n"
     ]
    },
    {
     "data": {
      "text/plain": [
       "1"
      ]
     },
     "execution_count": 36,
     "metadata": {},
     "output_type": "execute_result"
    }
   ],
   "source": [
    "c.x"
   ]
  },
  {
   "cell_type": "code",
   "execution_count": 29,
   "metadata": {},
   "outputs": [
    {
     "name": "stdout",
     "output_type": "stream",
     "text": [
      "delattr\n"
     ]
    }
   ],
   "source": [
    "del c.x"
   ]
  },
  {
   "cell_type": "code",
   "execution_count": null,
   "metadata": {},
   "outputs": [],
   "source": [
    "\n",
    "class rectangle:\n",
    "    def __init__(self,width = 0,high = 0):\n",
    "        self.width = width\n",
    "        self.height = height  #赋值，会自动触发setattr方法\n",
    "        \n",
    "    def __setattr__(self,name,value):\n",
    "        if name == 'square':  #name是width和height\n",
    "            self.width = value\n",
    "            self.height = value\n",
    "        else:\n",
    "            self.name = value  #又执行赋值操作，则又调用setattr，成为死循环，无限递归\n",
    "            #自己调用自己\n",
    "        def getArea(self):\n",
    "            return self.width*self.height"
   ]
  },
  {
   "cell_type": "code",
   "execution_count": 15,
   "metadata": {},
   "outputs": [
    {
     "data": {
      "text/plain": [
       "20"
      ]
     },
     "execution_count": 15,
     "metadata": {},
     "output_type": "execute_result"
    }
   ],
   "source": [
    "#对上面的递归进行修改\n",
    "#法一\n",
    "class rectangle:#矩形\n",
    "    def __init__(self,width = 0,height = 0):\n",
    "        self.width = width\n",
    "        self.height = height  #赋值，会自动触发setattr方法\n",
    "        \n",
    "    def __setattr__(self,name,value):\n",
    "        if name == 'square':  #name是width和height\n",
    "            self.width = value\n",
    "            self.height = value \n",
    "        else:\n",
    "            #pass\n",
    "            super().__setattr__(name,value)\n",
    "            #调用基类的setattr。因为基类的总是系统写好的，保守的没问题的。\n",
    "            #调用系统的属性修改，即自己调用系统\n",
    "            #super应该是类对象，应该是一个隐藏参数，不用写在括号里,它相当于self\n",
    "    def getArea(self):\n",
    "        return self.width*self.height\n",
    "        \n",
    "r1 = rectangle(4,5) #赋值4,5时，调用了两次setattr，name分别为width和height。\n",
    "#即width调用用一次setattr，height调用一次setattr\n",
    "r1.getArea()"
   ]
  },
  {
   "cell_type": "code",
   "execution_count": 41,
   "metadata": {},
   "outputs": [
    {
     "data": {
      "text/plain": [
       "10"
      ]
     },
     "execution_count": 41,
     "metadata": {},
     "output_type": "execute_result"
    }
   ],
   "source": [
    "r1.square = 10   #name为属性名    此处会在调用一次setattr，但由于name已经不在是square了，\n",
    "#就进入了else里\n",
    "r1.width #属性width的值是10"
   ]
  },
  {
   "cell_type": "code",
   "execution_count": 42,
   "metadata": {},
   "outputs": [
    {
     "data": {
      "text/plain": [
       "10"
      ]
     },
     "execution_count": 42,
     "metadata": {},
     "output_type": "execute_result"
    }
   ],
   "source": [
    "r1.height"
   ]
  },
  {
   "cell_type": "code",
   "execution_count": 44,
   "metadata": {},
   "outputs": [
    {
     "data": {
      "text/plain": [
       "100"
      ]
     },
     "execution_count": 44,
     "metadata": {},
     "output_type": "execute_result"
    }
   ],
   "source": [
    "r1.getArea()   #前两种方法在程序中被调用了"
   ]
  },
  {
   "cell_type": "code",
   "execution_count": 46,
   "metadata": {},
   "outputs": [
    {
     "data": {
      "text/plain": [
       "{'width': 10, 'height': 10}"
      ]
     },
     "execution_count": 46,
     "metadata": {},
     "output_type": "execute_result"
    }
   ],
   "source": [
    "#法二  用特殊属性  由于它所得到的值如下：\n",
    "r1.__dict__  "
   ]
  },
  {
   "cell_type": "code",
   "execution_count": 17,
   "metadata": {},
   "outputs": [
    {
     "ename": "SyntaxError",
     "evalue": "can't assign to function call (<ipython-input-17-328ba0e1f3f6>, line 12)",
     "output_type": "error",
     "traceback": [
      "\u001b[0;36m  File \u001b[0;32m\"<ipython-input-17-328ba0e1f3f6>\"\u001b[0;36m, line \u001b[0;32m12\u001b[0m\n\u001b[0;31m    self.__dict__(name) = value\u001b[0m\n\u001b[0m    ^\u001b[0m\n\u001b[0;31mSyntaxError\u001b[0m\u001b[0;31m:\u001b[0m can't assign to function call\n"
     ]
    }
   ],
   "source": [
    "#对上面的递归进行修改\n",
    "class rectangle:#矩形\n",
    "    def __init__(self,width = 0,height = 0):\n",
    "        self.width = width\n",
    "        self.height = height  #赋值，会自动触发setattr方法\n",
    "        \n",
    "    def __setattr__(self,name,value):\n",
    "        if name == 'square':  #name是width和height\n",
    "            self.width = value\n",
    "            self.height = value\n",
    "        else:\n",
    "            self.__dict__(name) = value\n",
    "            #返回{'width': 10, 'height': 10} \n",
    "            #字典形式中赋值不会粗触发类的魔法方法setattr\n",
    "            \n",
    "    def getArea(self):\n",
    "        return self.width*self.height\n",
    "        \n",
    "r1 = rectangle(4,5) #生成实例化对象完成前两个魔法方法\n",
    "r1.getArea()"
   ]
  },
  {
   "cell_type": "code",
   "execution_count": 38,
   "metadata": {},
   "outputs": [
    {
     "name": "stdout",
     "output_type": "stream",
     "text": [
      "getting <__main__.MyDescriber object at 0x7f3e42fc16a0> <__main__.Test object at 0x7f3e42fc16d8> <class '__main__.Test'>\n"
     ]
    }
   ],
   "source": [
    "#描述符:将某种特殊类型的类的实例指派给另一个类的属性\n",
    "#特殊类型\n",
    "#__get__(self,instance,owner):访问属性时自动调用，返回属性值\n",
    "#__set__(self,instance,value):给属性赋值时自动调用，不返回任何内容\n",
    "#__delete__(self,instance):删除属性时自动调用，不返回任何内容\n",
    "#以上三者是描述符属性方法\n",
    "\n",
    "#instance:实例\n",
    "\n",
    "class MyDescriber:  #他是实现了以下特殊类型的类，即以下三种方法之一通过它实现了\n",
    "    #（将某种特殊类型的类）\n",
    "    def __get__(self,instance,owner):   #owner是拥有者\n",
    "        print('getting',self,instance,owner)\n",
    "    def __set__(self,instance,value):\n",
    "        print('setting',self,instance,value)\n",
    "    def __delete__(self,instance):\n",
    "        print('deleting',self,instance)\n",
    "        \n",
    "class Test:\n",
    "    x = MyDescriber() #将类Myrectangled的实例Myrectangle()指派给类Test的属性x，则称\n",
    "    #Myrectangle为描述符类，Myrectangle()是描述符  x属性为描述符\n",
    "    #与之前x=property的例子类似\n",
    "    #他与继承相反。它是类变为别人的属性\n",
    "test = Test()\n",
    "test.x #访问它的x属性时，会自动调用描述符的get方法，\n",
    "#self是MyDescriber()；instance是拥有者的实例对象Test(),即test; owner是Test"
   ]
  },
  {
   "cell_type": "code",
   "execution_count": 35,
   "metadata": {},
   "outputs": [
    {
     "data": {
      "text/plain": [
       "<__main__.Test at 0x7f3e5004c400>"
      ]
     },
     "execution_count": 35,
     "metadata": {},
     "output_type": "execute_result"
    }
   ],
   "source": [
    "test #下面应有object"
   ]
  },
  {
   "cell_type": "code",
   "execution_count": 27,
   "metadata": {},
   "outputs": [
    {
     "data": {
      "text/plain": [
       "__main__.Test"
      ]
     },
     "execution_count": 27,
     "metadata": {},
     "output_type": "execute_result"
    }
   ],
   "source": [
    "Test"
   ]
  },
  {
   "cell_type": "code",
   "execution_count": 39,
   "metadata": {},
   "outputs": [
    {
     "name": "stdout",
     "output_type": "stream",
     "text": [
      "setting <__main__.MyDescriber object at 0x7f3e42fc16a0> <__main__.Test object at 0x7f3e42fc16d8> X.main\n"
     ]
    }
   ],
   "source": [
    "test.x = 'X.main'"
   ]
  },
  {
   "cell_type": "code",
   "execution_count": 40,
   "metadata": {},
   "outputs": [
    {
     "ename": "NameError",
     "evalue": "name 'text' is not defined",
     "output_type": "error",
     "traceback": [
      "\u001b[0;31m---------------------------------------------------------------------------\u001b[0m",
      "\u001b[0;31mNameError\u001b[0m                                 Traceback (most recent call last)",
      "\u001b[0;32m<ipython-input-40-330a87fbee3a>\u001b[0m in \u001b[0;36m<module>\u001b[0;34m\u001b[0m\n\u001b[0;32m----> 1\u001b[0;31m \u001b[0;32mdel\u001b[0m \u001b[0mtext\u001b[0m\u001b[0;34m.\u001b[0m\u001b[0mx\u001b[0m\u001b[0;34m\u001b[0m\u001b[0;34m\u001b[0m\u001b[0m\n\u001b[0m",
      "\u001b[0;31mNameError\u001b[0m: name 'text' is not defined"
     ]
    }
   ],
   "source": [
    "del text.x"
   ]
  },
  {
   "cell_type": "code",
   "execution_count": 3,
   "metadata": {},
   "outputs": [
    {
     "data": {
      "text/plain": [
       "'x.main'"
      ]
     },
     "execution_count": 3,
     "metadata": {},
     "output_type": "execute_result"
    }
   ],
   "source": [
    "#property实际为描述符类 它有几个参数。self,fget,fset,fdel\n",
    "#property广泛应用在类的定义中，可以让调用者写出简短的代码，同时保证对参数进行必要的检查，\n",
    "#这样，程序运行时就减少了出错的可能性。\n",
    "#用自己的代码模仿一遍property方法\n",
    "class MyProperty:  #当该类的实例化对象被调用时（即MyProperty生成实例化对象时，init被执行，传\n",
    "    #进去的是C类中的getx,setx,delx方法的函数名），就会触发get方法,(对应传进来的)self.fget(instance)就\n",
    "    #会被执行。#注：#self.fget(instance) = getx(self)\n",
    "    #方法(执行的是C类中的getx方法，即None就为getx=fget=self.fget)\n",
    "   \n",
    "    def __init__(self,fget=None,fset=None,fdel=None):#init里传入的是函数,不加（）。\n",
    "        #实际上fget,fset,fdel对应instance方法的引用\n",
    "        self.fget = fget    #fget是函数句柄\n",
    "        self.fset = fset    #fget指C类里要自己定义的方法\n",
    "        self.fdel = fdel\n",
    "        \n",
    "    def __get__(self,instance,owner): #定义描述符类的特殊方法。\n",
    "        return self.fget(instance) #fget(getx)方法有一个参数，参数的作用是获取拥有者的实例对象\n",
    "    #self.fget(instance) = getx(self)\n",
    "    #instance=self（因为instance就是C（），getx(self)里的self=C().）\n",
    "    #只有get有返回值  返回fget的结果\n",
    "    def __set__(self,instance,value):\n",
    "        self.fset(instance,value)\n",
    "        \n",
    "    def __del__(self,instance):\n",
    "        self.fdel(instance)\n",
    "    \n",
    "class C:\n",
    "    def __init__(self):\n",
    "        self._x = None #'_'表示不希望被外部直接访问  定义私有属性x\n",
    "    def getx(self):\n",
    "        return self._x   #用指定的方法（从内部）访问x\n",
    "    def setx(self,value):#重写slef._x,就是赋值\n",
    "        self._x = value  \n",
    "        \n",
    "        #self._x = value ,会出现maximum recursion depth exceeded\n",
    "        \n",
    "    def delx(self):\n",
    "        del self._x\n",
    "        \n",
    "    x = MyProperty(getx,setx,delx)  #该描述符作用（实现过程为我的property类，即Myproperty）：\n",
    "    #将(getx,setx,delx) 传进去\n",
    "    #里面的(getx,setx,delx) 对应(fget,fset,fdel)\n",
    "    \n",
    "c = C()\n",
    "c.x = 'x.main'#当对c对象的x属性进行重写时，自动调用setx方法。\n",
    "c.x\n",
    "#对x赋值，触发set方法，调用setx，也对_x赋值"
   ]
  },
  {
   "cell_type": "code",
   "execution_count": 10,
   "metadata": {},
   "outputs": [
    {
     "data": {
      "text/plain": [
       "'x.main'"
      ]
     },
     "execution_count": 10,
     "metadata": {},
     "output_type": "execute_result"
    }
   ],
   "source": [
    "c._x\n"
   ]
  },
  {
   "cell_type": "code",
   "execution_count": 12,
   "metadata": {},
   "outputs": [
    {
     "data": {
      "text/plain": [
       "'x.main'"
      ]
     },
     "execution_count": 12,
     "metadata": {},
     "output_type": "execute_result"
    }
   ],
   "source": [
    "c._x = 'x.main'\n",
    "c._x\n",
    "#对_x赋值，触发set方法，调用setx，也对x赋值"
   ]
  },
  {
   "cell_type": "code",
   "execution_count": 13,
   "metadata": {},
   "outputs": [
    {
     "data": {
      "text/plain": [
       "'x.main'"
      ]
     },
     "execution_count": 13,
     "metadata": {},
     "output_type": "execute_result"
    }
   ],
   "source": [
    "c.x"
   ]
  },
  {
   "cell_type": "code",
   "execution_count": 11,
   "metadata": {},
   "outputs": [
    {
     "ename": "AttributeError",
     "evalue": "__delete__",
     "output_type": "error",
     "traceback": [
      "\u001b[0;31m---------------------------------------------------------------------------\u001b[0m",
      "\u001b[0;31mAttributeError\u001b[0m                            Traceback (most recent call last)",
      "\u001b[0;32m<ipython-input-11-4dfbd46768ed>\u001b[0m in \u001b[0;36m<module>\u001b[0;34m\u001b[0m\n\u001b[0;32m----> 1\u001b[0;31m \u001b[0;32mdel\u001b[0m \u001b[0mc\u001b[0m\u001b[0;34m.\u001b[0m\u001b[0mx\u001b[0m  \u001b[0;31m#报错原因是del不能缩写\u001b[0m\u001b[0;34m\u001b[0m\u001b[0;34m\u001b[0m\u001b[0m\n\u001b[0m",
      "\u001b[0;31mAttributeError\u001b[0m: __delete__"
     ]
    }
   ],
   "source": [
    "del c.x  #报错原因是del不能缩写"
   ]
  },
  {
   "cell_type": "code",
   "execution_count": 16,
   "metadata": {},
   "outputs": [
    {
     "data": {
      "text/plain": [
       "26.0"
      ]
     },
     "execution_count": 16,
     "metadata": {},
     "output_type": "execute_result"
    }
   ],
   "source": [
    "class Celsius:#摄氏度\n",
    "    def __init__(self,value = 26.0):#初始化温度为26\n",
    "        self.value = float(value)  #转换为浮点形（因为华氏度要×1.8）\n",
    " \n",
    "    def __get__(self,instance,owner):#属性被获得时自动调用\n",
    "        return self.value\n",
    "    \n",
    "    def __set__(self,instance,value):\n",
    "        self.value = float(value)\n",
    "    \n",
    "class Fahrenheit:#华氏度\n",
    "    def __get__(self,instance,owner):#owner是拥有者Temperature\n",
    "        return instance.cel * 1.8 + 32\n",
    "    def __set__(self,instance,value):\n",
    "        instance.cel = (float(value) - 32)/1.8 #有反运算\n",
    "    #instance.cel=temp.cel\n",
    "class Temperature: #它有两个属性cel和fah\n",
    "    cel = Celsius()#摄氏度描述符(有get等方法)，用来描述cel属性\n",
    "    fah = Fahrenheit()\n",
    "    \n",
    "temp = Temperature() \n",
    "temp.cel#默认"
   ]
  },
  {
   "cell_type": "code",
   "execution_count": 17,
   "metadata": {},
   "outputs": [
    {
     "ename": "TypeError",
     "evalue": "Temperature() takes no arguments",
     "output_type": "error",
     "traceback": [
      "\u001b[0;31m---------------------------------------------------------------------------\u001b[0m",
      "\u001b[0;31mTypeError\u001b[0m                                 Traceback (most recent call last)",
      "\u001b[0;32m<ipython-input-17-258f24e1eabe>\u001b[0m in \u001b[0;36m<module>\u001b[0;34m\u001b[0m\n\u001b[0;32m----> 1\u001b[0;31m \u001b[0mtemp\u001b[0m \u001b[0;34m=\u001b[0m \u001b[0mTemperature\u001b[0m\u001b[0;34m(\u001b[0m\u001b[0;36m30\u001b[0m\u001b[0;34m)\u001b[0m\u001b[0;34m\u001b[0m\u001b[0;34m\u001b[0m\u001b[0m\n\u001b[0m",
      "\u001b[0;31mTypeError\u001b[0m: Temperature() takes no arguments"
     ]
    }
   ],
   "source": [
    "temp = Temperature(30) #此类里无init"
   ]
  },
  {
   "cell_type": "code",
   "execution_count": 18,
   "metadata": {},
   "outputs": [
    {
     "data": {
      "text/plain": [
       "86.0"
      ]
     },
     "execution_count": 18,
     "metadata": {},
     "output_type": "execute_result"
    }
   ],
   "source": [
    "temp.cel = 30  #当该属性被赋值时，它会执行它的描述符类的set方法（描述符用来描述cel属性）\n",
    "temp.fah  #访问fah属性时，会执行一次temp.cel(执行get方法返回30.0)其值为30.0"
   ]
  },
  {
   "cell_type": "code",
   "execution_count": 19,
   "metadata": {},
   "outputs": [
    {
     "data": {
      "text/plain": [
       "37.77777777777778"
      ]
     },
     "execution_count": 19,
     "metadata": {},
     "output_type": "execute_result"
    }
   ],
   "source": [
    "temp.fah = 100 #在此赋值，也就是在类Temperature中给fah属性进行赋值，而属性fah有\n",
    "#一个描述符类方法，(即描述符Fahrenheit()是描述fah属性的)。当fah被赋值时，就会执行该\n",
    "#描述符类的set方法（该方法实际是去执行temp.cel的，即把计算好的结果存放到temp.cel里，也就\n",
    "#是给temp.cel进行赋值）。又由于cel也有描述符类方法，则会执行cel描述符类的set方法，最后涉\n",
    "#及到self.value里\n",
    "#\n",
    "temp.cel"
   ]
  },
  {
   "cell_type": "code",
   "execution_count": null,
   "metadata": {},
   "outputs": [],
   "source": [
    "#定制容器，先谈协议\n",
    "#python中的协议：规定在哪些地方必须要定义哪些东西，更像是一种指南\n",
    "#python中list,tuple,string,dict都属于容器类型，因为它们里面可存放各种对象\n"
   ]
  },
  {
   "cell_type": "code",
   "execution_count": 3,
   "metadata": {},
   "outputs": [
    {
     "name": "stdout",
     "output_type": "stream",
     "text": [
      "[0, 1, 4, 9, 16, 25, 36, 49, 64, 81]\n"
     ]
    }
   ],
   "source": [
    "#列表推导式：一行代码实现一个特定要求的新列表，且它更高效\n",
    "squares = []\n",
    "for i in range(10):\n",
    "    squares.append(i**2)\n",
    "    \n",
    "print(squares)"
   ]
  },
  {
   "cell_type": "code",
   "execution_count": 4,
   "metadata": {},
   "outputs": [
    {
     "name": "stdout",
     "output_type": "stream",
     "text": [
      "[0, 1, 4, 9, 16, 25, 36, 49, 64, 81]\n"
     ]
    }
   ],
   "source": [
    "squares = [i**2 for i in range(10)]\n",
    "print(squares)"
   ]
  },
  {
   "cell_type": "code",
   "execution_count": 6,
   "metadata": {},
   "outputs": [
    {
     "name": "stdout",
     "output_type": "stream",
     "text": [
      "[4, 9, 16, 25, 36, 49, 64, 81]\n"
     ]
    }
   ],
   "source": [
    "#用if语句对列表进行过滤\n",
    "squares = [i**2 for i in range(10) if i>1]\n",
    "print(squares)"
   ]
  },
  {
   "cell_type": "code",
   "execution_count": 7,
   "metadata": {},
   "outputs": [
    {
     "name": "stdout",
     "output_type": "stream",
     "text": [
      "[4, 9, 16, 25, 36, 49, 64, 81]\n"
     ]
    }
   ],
   "source": [
    "#用if语句对列表进行过滤\n",
    "squares = [i**2 for i in range(10) if i**2>1]\n",
    "print(squares)"
   ]
  },
  {
   "cell_type": "code",
   "execution_count": 8,
   "metadata": {},
   "outputs": [
    {
     "name": "stdout",
     "output_type": "stream",
     "text": [
      "[0, 1, 2, 3, 4, 5, 6, 7, 8, 9]\n"
     ]
    }
   ],
   "source": [
    "#为列表中每个元素应用函数\n",
    "squares = [abs(i) for i in range(10)]#abs取绝对值\n",
    "print(squares)"
   ]
  },
  {
   "cell_type": "code",
   "execution_count": 23,
   "metadata": {},
   "outputs": [
    {
     "name": "stdout",
     "output_type": "stream",
     "text": [
      "[1, 3, 5, 7, 9]\n",
      "5\n",
      "{0: 0, 1: 0, 2: 0, 3: 0, 4: 0}\n",
      "[2, 4, 6, 8, 10]\n",
      "5\n",
      "{0: 0, 1: 0, 2: 0, 3: 0, 4: 0}\n"
     ]
    },
    {
     "data": {
      "text/plain": [
       "3"
      ]
     },
     "execution_count": 23,
     "metadata": {},
     "output_type": "execute_result"
    }
   ],
   "source": [
    "#容器类型的协议\n",
    "#1。定制容器不可变（元组,字符串），则只需定义__len__()和__getitem__()\n",
    "#2。定制容器可变（元组,字符串），则要定义__len__()、__getitem__()、__setitem__()\\\n",
    "#__delitem__()\n",
    "#编写一个不可改变的自定义列表要求记录列表中每个元素被访问的次数 可用字典\n",
    "#lambda是匿名函数，不需定义就可写的函数\n",
    "class countlist:  #将定义一个容器的类\n",
    "    def __init__(self,*args):#参数是可变数量的（因为不知用户要传入多少个数据，\n",
    "        #则把它初始化为一个列表）\n",
    "        #'*'表示这一个参数可以有一个或多个，一个*：存为元组，两个*:存为字典\n",
    "        self.values = [i for i in args] #将传入的一堆数据放入一个列表里\n",
    "        #用列表推导式的形式能简洁的构造一个新列表。\n",
    "        print(self.values)\n",
    "        print(len(self.values))\n",
    "        self.count = {}.fromkeys(range(len(self.values)),0)#用下标，而不是用元素\n",
    "        #self.count是构建一个新的字典来统计每个下标的访问次数\n",
    "        #fromkeys用于初始化\n",
    "        #创建一个空的“count”字典，并初始化为{0：0,1：0,。。。}\n",
    "        #将每个元素在列表中的下标作为字典的键，它的值就是对应的访问次数\n",
    "        print(self.count)\n",
    "    def __len__(self):  #不可变容器   #它使得字符串长度无法改变\n",
    "        return len(self.values)\n",
    "    #此处的len方法没必要重写，因为创建字典self.count时用的是len(self.values)\n",
    "    #创建字典时若用len(self)，则此方法必须重写\n",
    "    \n",
    "    def __getitem__(self,key): #key是相应的下标\n",
    "        self.count[key] += 1  #获取它的值self.values(key)，就访问它一次\n",
    "        #self.count是字典，这里不是对下标进行索引，而是对键值进行索引，因\n",
    "        #为键值是0，1,2,...N\n",
    "        return self.values[key]\n",
    "    \n",
    "    #self.count(key) += 1,会出现can not assign to function call\n",
    "    \n",
    "c1 = countlist(1,3,5,7,9)\n",
    "c2 = countlist(2,4,6,8,10)\n",
    "#c1[1]  #自动调用getitem,并返回c1.values[1]。(为什么会报错,但去掉self.count[key] += 1 就正常,\n",
    "#因为字典为空)\n",
    "c1.values[1]#直接去找values，不需调用getitem"
   ]
  },
  {
   "cell_type": "code",
   "execution_count": 24,
   "metadata": {},
   "outputs": [
    {
     "data": {
      "text/plain": [
       "4"
      ]
     },
     "execution_count": 24,
     "metadata": {},
     "output_type": "execute_result"
    }
   ],
   "source": [
    "c2[1]   #c2的键1被访问一次self.count"
   ]
  },
  {
   "cell_type": "code",
   "execution_count": 25,
   "metadata": {},
   "outputs": [
    {
     "data": {
      "text/plain": [
       "7"
      ]
     },
     "execution_count": 25,
     "metadata": {},
     "output_type": "execute_result"
    }
   ],
   "source": [
    "c1[1]+c2[1]  #c2的键1又被访问一次self.count"
   ]
  },
  {
   "cell_type": "code",
   "execution_count": 26,
   "metadata": {},
   "outputs": [
    {
     "data": {
      "text/plain": [
       "{0: 0, 1: 1, 2: 0, 3: 0, 4: 0}"
      ]
     },
     "execution_count": 26,
     "metadata": {},
     "output_type": "execute_result"
    }
   ],
   "source": [
    "c1.count"
   ]
  },
  {
   "cell_type": "code",
   "execution_count": 27,
   "metadata": {},
   "outputs": [
    {
     "data": {
      "text/plain": [
       "{0: 0, 1: 2, 2: 0, 3: 0, 4: 0}"
      ]
     },
     "execution_count": 27,
     "metadata": {},
     "output_type": "execute_result"
    }
   ],
   "source": [
    "c2.count   #所以self.count共被访问了两次"
   ]
  },
  {
   "cell_type": "code",
   "execution_count": 28,
   "metadata": {},
   "outputs": [
    {
     "data": {
      "text/plain": [
       "5"
      ]
     },
     "execution_count": 28,
     "metadata": {},
     "output_type": "execute_result"
    }
   ],
   "source": [
    "len(c1)#自动调用len方法"
   ]
  },
  {
   "cell_type": "code",
   "execution_count": 29,
   "metadata": {},
   "outputs": [
    {
     "name": "stdout",
     "output_type": "stream",
     "text": [
      "d\n",
      "s\n",
      "k\n",
      "j\n"
     ]
    }
   ],
   "source": [
    "#迭代器：提供迭代方法的容器。序列、字典是可迭代对象\n",
    "#迭代类似于循环，这次循环结果作为下一次的初始条件,每一次重复的过程被称为一次迭代\n",
    "#递归是调用自身\n",
    "for i in 'dskj': #字符串既是容器，又是迭代器\n",
    "    print(i)   #for语句作用：触发迭代器的迭代功能，每次从容器中依次拿出一个数据"
   ]
  },
  {
   "cell_type": "code",
   "execution_count": 4,
   "metadata": {},
   "outputs": [
    {
     "name": "stdout",
     "output_type": "stream",
     "text": [
      "lambdarecursionfilter\n",
      "fromkeysrecursionkeys\n",
      "itemrecursionget\n"
     ]
    }
   ],
   "source": [
    "links = {'lambda':'filter','fromkeys':'keys',\\\n",
    "        'item':'get'}\n",
    "for each in links:#用for对字典进行迭代\n",
    "    print('%srecursion%s'%(each,links[each]))\n",
    "#%s:字符窜； %d：整形；  %f：浮点型（%.1保留小数点后一位，默认保留小数点后6位）"
   ]
  },
  {
   "cell_type": "code",
   "execution_count": 1,
   "metadata": {},
   "outputs": [
    {
     "data": {
      "text/plain": [
       "'l'"
      ]
     },
     "execution_count": 1,
     "metadata": {},
     "output_type": "execute_result"
    }
   ],
   "source": [
    "'''迭代器的BIF '''\n",
    "'''iter(可迭代对象)[interation]，容器对象调用iter便得到它的迭代器\n",
    "next(迭代器),迭代器会返回下一个值，若迭代器没有值可返回，则python会抛出一个StopIteration'''\n",
    "string = 'la'\n",
    "it = iter(string)#it为字符串容器的迭代器\n",
    "next(it)#用next调用迭代器it"
   ]
  },
  {
   "cell_type": "code",
   "execution_count": 2,
   "metadata": {},
   "outputs": [
    {
     "data": {
      "text/plain": [
       "'a'"
      ]
     },
     "execution_count": 2,
     "metadata": {},
     "output_type": "execute_result"
    }
   ],
   "source": [
    "next(it)"
   ]
  },
  {
   "cell_type": "code",
   "execution_count": 3,
   "metadata": {},
   "outputs": [
    {
     "ename": "StopIteration",
     "evalue": "",
     "output_type": "error",
     "traceback": [
      "\u001b[0;31m---------------------------------------------------------------------------\u001b[0m",
      "\u001b[0;31mStopIteration\u001b[0m                             Traceback (most recent call last)",
      "\u001b[0;32m<ipython-input-3-bc1ab118995a>\u001b[0m in \u001b[0;36m<module>\u001b[0;34m\u001b[0m\n\u001b[0;32m----> 1\u001b[0;31m \u001b[0mnext\u001b[0m\u001b[0;34m(\u001b[0m\u001b[0mit\u001b[0m\u001b[0;34m)\u001b[0m\u001b[0;34m\u001b[0m\u001b[0;34m\u001b[0m\u001b[0m\n\u001b[0m",
      "\u001b[0;31mStopIteration\u001b[0m: "
     ]
    }
   ],
   "source": [
    "next(it)#这就是for语句的工作原理（for语句的自动调用机理）"
   ]
  },
  {
   "cell_type": "code",
   "execution_count": 6,
   "metadata": {},
   "outputs": [
    {
     "name": "stdout",
     "output_type": "stream",
     "text": [
      "l\n",
      "a\n",
      "m\n",
      "b\n",
      "d\n",
      "a\n"
     ]
    }
   ],
   "source": [
    "string = 'lambda'\n",
    "it = iter(string)\n",
    "while True:#用while实现for循环\n",
    "    try:\n",
    "        each = next(it)\n",
    "    except StopIteration:\n",
    "            break\n",
    "    print(each)"
   ]
  },
  {
   "cell_type": "code",
   "execution_count": 8,
   "metadata": {},
   "outputs": [
    {
     "name": "stdout",
     "output_type": "stream",
     "text": [
      "1\n",
      "1\n",
      "2\n",
      "3\n",
      "5\n",
      "8\n",
      "13\n"
     ]
    }
   ],
   "source": [
    "#迭代器的魔法方法\n",
    "#__iter__()#返回迭代器本身\n",
    "#__next__()  #决定了迭代器的规则\n",
    "class Fibs:#将此类定义为迭代器\n",
    "    def __init__(self):\n",
    "        self.a = 0\n",
    "        self.b = 1\n",
    "    def __iter__(self):\n",
    "        return self#返回它本身（因为它本身为迭代器）\n",
    "    def __next__(self):\n",
    "        self.a,self.b = self.b,self.a + self.b\n",
    "        return self.a\n",
    "    \n",
    "    \n",
    "fibs = Fibs()\n",
    "for each in fibs:\n",
    "    if each < 20:\n",
    "        print(each)\n",
    "    else:\n",
    "        break"
   ]
  },
  {
   "cell_type": "code",
   "execution_count": 10,
   "metadata": {},
   "outputs": [
    {
     "name": "stdout",
     "output_type": "stream",
     "text": [
      "1\n",
      "1\n",
      "2\n",
      "3\n",
      "5\n",
      "8\n",
      "13\n"
     ]
    }
   ],
   "source": [
    "#迭代器的魔法方法\n",
    "#__iter__()#返回迭代器本身\n",
    "#__next__()\n",
    "class Fibs:#将此类定义为迭代器\n",
    "    def __init__(self,n=20):#n是为了控制迭代器迭代的范围（因为迭代器是没有终点的）\n",
    "        self.a = 0\n",
    "        self.b = 1\n",
    "        self.n = n\n",
    "    def __iter__(self):\n",
    "        return self#返回它本身（因为它本身为迭代器）\n",
    "    def __next__(self):\n",
    "        self.a,self.b = self.b,self.a + self.b\n",
    "        if self.a > self.n:\n",
    "            raise StopIteration\n",
    "        return self.a\n",
    "    \n",
    "    \n",
    "fibs = Fibs()\n",
    "for each in fibs:\n",
    "        print(each)\n"
   ]
  },
  {
   "cell_type": "code",
   "execution_count": null,
   "metadata": {},
   "outputs": [],
   "source": []
  },
  {
   "cell_type": "code",
   "execution_count": 22,
   "metadata": {},
   "outputs": [
    {
     "data": {
      "text/plain": [
       "14"
      ]
     },
     "execution_count": 22,
     "metadata": {},
     "output_type": "execute_result"
    }
   ],
   "source": [
    "#魔法方法 ：格式：被双下划线所包围\n",
    "#它可以在适当的时候被调用\n",
    "class rectangle:   #rectangle(矩形)    因为此矩形类需要长和宽两个参数（即要在实例化时传入），所以要用到__init__方法\n",
    "    def __init__(self,x,y):    #并对其重写\n",
    "        self.x = x  #self.x是类实例化后的实例对象的局部变量，而x是传入的参数\n",
    "        self.y = y\n",
    "    def getperimeter(self):    #perimeter(周长)\n",
    "        return (self.x + self.y)*2\n",
    "    def getarea(self):\n",
    "        return self.x*self.y\n",
    "    \n",
    "rect = rectangle(3,4)\n",
    "rect.getperimeter()"
   ]
  },
  {
   "cell_type": "code",
   "execution_count": 23,
   "metadata": {},
   "outputs": [
    {
     "ename": "TypeError",
     "evalue": "__init__() should return None, not 'str'",
     "output_type": "error",
     "traceback": [
      "\u001b[0;31m---------------------------------------------------------------------------\u001b[0m",
      "\u001b[0;31mTypeError\u001b[0m                                 Traceback (most recent call last)",
      "\u001b[0;32m<ipython-input-23-234e7604cf47>\u001b[0m in \u001b[0;36m<module>\u001b[0;34m\u001b[0m\n\u001b[1;32m      3\u001b[0m         \u001b[0;32mreturn\u001b[0m \u001b[0;34m'classification'\u001b[0m\u001b[0;34m\u001b[0m\u001b[0;34m\u001b[0m\u001b[0m\n\u001b[1;32m      4\u001b[0m \u001b[0;34m\u001b[0m\u001b[0m\n\u001b[0;32m----> 5\u001b[0;31m \u001b[0ma\u001b[0m \u001b[0;34m=\u001b[0m \u001b[0mA\u001b[0m\u001b[0;34m(\u001b[0m\u001b[0;34m)\u001b[0m\u001b[0;34m\u001b[0m\u001b[0;34m\u001b[0m\u001b[0m\n\u001b[0m",
      "\u001b[0;31mTypeError\u001b[0m: __init__() should return None, not 'str'"
     ]
    }
   ],
   "source": [
    "class A:\n",
    "    def __init__(self):   #只有对一个对象作初始化操作时，才会重写init\n",
    "        return 'classification'\n",
    "    \n",
    "a = A()  #抛出typeerror的异常\n",
    "#因为__init__必须返回none，所以不能试图给它作任何的返回"
   ]
  },
  {
   "cell_type": "code",
   "execution_count": 24,
   "metadata": {},
   "outputs": [
    {
     "data": {
      "text/plain": [
       "'CLASSIFICATION'"
      ]
     },
     "execution_count": 24,
     "metadata": {},
     "output_type": "execute_result"
    }
   ],
   "source": [
    "#其实init并不是实例化对象时的第一个被调用的魔法方法，第一个被调用的魔法方法是__new__(cls[,...])\n",
    "#new的第一个参数是cls（class），而不是self。它需要返回一个实例对象。它很少被重写\n",
    "class Capstr(str):  #继承str    创立一个大写字符串。当Capstr中传入一个字符串时，都会变为大写字符，而str是不可修改的，\n",
    "    #所以不能在init方法内对str自身进行修改，所以在new时，对string进行替换，即string.upper,然后将替换后的来调用str的new\n",
    "    #所以要在实例化之前对类Capstr进行修改，要用new\n",
    "    def __new__(cls,string):   #重写new，cls只是为了与self进行区分\n",
    "        string = string.upper()   #upper:将其变为全部大写\n",
    "        return str.__new__(cls,string)   # 返回一个实例化对象，借助str的new来返回一个实例对象，注意：里面的参数\n",
    "a = Capstr('classification')    #变成了大写的string\n",
    "a"
   ]
  },
  {
   "cell_type": "code",
   "execution_count": 34,
   "metadata": {},
   "outputs": [
    {
     "name": "stdout",
     "output_type": "stream",
     "text": [
      "classification\n"
     ]
    }
   ],
   "source": [
    "#__del__(self)  当对象将被销毁时，它会被自动调用\n",
    "#del x不等于x.__del__()\n",
    "#__del__()相当于垃圾回收机制，没标签则被自动调用\n",
    "class C:\n",
    "    def __init__(self):\n",
    "        print('classification')\n",
    "    def __del__(self):\n",
    "        print('assert')\n",
    "        \n",
    "c1 = C()  #自动调用init\n"
   ]
  },
  {
   "cell_type": "code",
   "execution_count": null,
   "metadata": {},
   "outputs": [],
   "source": []
  },
  {
   "cell_type": "code",
   "execution_count": 35,
   "metadata": {},
   "outputs": [],
   "source": [
    "c2 = c1  #有c1,c2两个标签指向对象\n",
    "c3 = c2\n",
    "del c3\n",
    "del c2"
   ]
  },
  {
   "cell_type": "code",
   "execution_count": 36,
   "metadata": {},
   "outputs": [
    {
     "name": "stdout",
     "output_type": "stream",
     "text": [
      "assert\n"
     ]
    }
   ],
   "source": [
    "del c1     #当对象生成之后，只有所有对del方法的引用都被del之后，才会调用del方法"
   ]
  },
  {
   "cell_type": "code",
   "execution_count": 37,
   "metadata": {},
   "outputs": [
    {
     "data": {
      "text/plain": [
       "builtin_function_or_method"
      ]
     },
     "execution_count": 37,
     "metadata": {},
     "output_type": "execute_result"
    }
   ],
   "source": [
    "#工厂函数  即类对象\n",
    "type(len )   #返回一个‘他是BIF’"
   ]
  },
  {
   "cell_type": "code",
   "execution_count": 38,
   "metadata": {},
   "outputs": [
    {
     "data": {
      "text/plain": [
       "type"
      ]
     },
     "execution_count": 38,
     "metadata": {},
     "output_type": "execute_result"
    }
   ],
   "source": [
    "type(list)"
   ]
  },
  {
   "cell_type": "code",
   "execution_count": 39,
   "metadata": {},
   "outputs": [
    {
     "data": {
      "text/plain": [
       "type"
      ]
     },
     "execution_count": 39,
     "metadata": {},
     "output_type": "execute_result"
    }
   ],
   "source": [
    "class C:\n",
    "    pass\n",
    "type(C)"
   ]
  },
  {
   "cell_type": "code",
   "execution_count": 41,
   "metadata": {},
   "outputs": [],
   "source": [
    "#计算相关的魔法方法：当对象进行了相关的算术运算时，就会自动调用对应的魔法方法，一旦重写了这些魔法方法，则python会自动计算\n",
    "class new_int(int):\n",
    "    def __add__(self,other):   \n",
    "        return int.__sub__(self,other)  #sub是减法\n",
    "    def __sub__(self,other):\n",
    "        return int.__add__(self,other)\n",
    "    \n",
    "a = new_int(3)\n",
    "b = new_int(5)"
   ]
  },
  {
   "cell_type": "code",
   "execution_count": 42,
   "metadata": {},
   "outputs": [
    {
     "data": {
      "text/plain": [
       "-2"
      ]
     },
     "execution_count": 42,
     "metadata": {},
     "output_type": "execute_result"
    }
   ],
   "source": [
    "a + b   #符号\"+\" ，则自动调用a的add  ，则self=a,other=b"
   ]
  },
  {
   "cell_type": "code",
   "execution_count": 45,
   "metadata": {},
   "outputs": [
    {
     "ename": "RecursionError",
     "evalue": "maximum recursion depth exceeded",
     "output_type": "error",
     "traceback": [
      "\u001b[0;31m---------------------------------------------------------------------------\u001b[0m",
      "\u001b[0;31mRecursionError\u001b[0m                            Traceback (most recent call last)",
      "\u001b[0;32m<ipython-input-45-9984a51db31e>\u001b[0m in \u001b[0;36m<module>\u001b[0;34m\u001b[0m\n\u001b[1;32m      7\u001b[0m \u001b[0ma\u001b[0m \u001b[0;34m=\u001b[0m \u001b[0mTry_int\u001b[0m\u001b[0;34m(\u001b[0m\u001b[0;36m3\u001b[0m\u001b[0;34m)\u001b[0m\u001b[0;34m\u001b[0m\u001b[0;34m\u001b[0m\u001b[0m\n\u001b[1;32m      8\u001b[0m \u001b[0mb\u001b[0m \u001b[0;34m=\u001b[0m \u001b[0mTry_int\u001b[0m\u001b[0;34m(\u001b[0m\u001b[0;36m5\u001b[0m\u001b[0;34m)\u001b[0m\u001b[0;34m\u001b[0m\u001b[0;34m\u001b[0m\u001b[0m\n\u001b[0;32m----> 9\u001b[0;31m \u001b[0ma\u001b[0m \u001b[0;34m+\u001b[0m \u001b[0mb\u001b[0m\u001b[0;34m\u001b[0m\u001b[0;34m\u001b[0m\u001b[0m\n\u001b[0m",
      "\u001b[0;32m<ipython-input-45-9984a51db31e>\u001b[0m in \u001b[0;36m__add__\u001b[0;34m(self, other)\u001b[0m\n\u001b[1;32m      1\u001b[0m \u001b[0;32mclass\u001b[0m \u001b[0mTry_int\u001b[0m\u001b[0;34m(\u001b[0m\u001b[0mint\u001b[0m\u001b[0;34m)\u001b[0m\u001b[0;34m:\u001b[0m\u001b[0;34m\u001b[0m\u001b[0;34m\u001b[0m\u001b[0m\n\u001b[1;32m      2\u001b[0m     \u001b[0;32mdef\u001b[0m \u001b[0m__add__\u001b[0m\u001b[0;34m(\u001b[0m\u001b[0mself\u001b[0m\u001b[0;34m,\u001b[0m\u001b[0mother\u001b[0m\u001b[0;34m)\u001b[0m\u001b[0;34m:\u001b[0m\u001b[0;34m\u001b[0m\u001b[0;34m\u001b[0m\u001b[0m\n\u001b[0;32m----> 3\u001b[0;31m         \u001b[0;32mreturn\u001b[0m \u001b[0mself\u001b[0m \u001b[0;34m+\u001b[0m \u001b[0mother\u001b[0m   \u001b[0;31m#只要对象‘+’就会调用add，返回时仍然是对象self + other，死循环\u001b[0m\u001b[0;34m\u001b[0m\u001b[0;34m\u001b[0m\u001b[0m\n\u001b[0m\u001b[1;32m      4\u001b[0m     \u001b[0;32mdef\u001b[0m \u001b[0m__sub__\u001b[0m\u001b[0;34m(\u001b[0m\u001b[0mself\u001b[0m\u001b[0;34m,\u001b[0m\u001b[0mother\u001b[0m\u001b[0;34m)\u001b[0m\u001b[0;34m:\u001b[0m\u001b[0;34m\u001b[0m\u001b[0;34m\u001b[0m\u001b[0m\n\u001b[1;32m      5\u001b[0m         \u001b[0;32mreturn\u001b[0m \u001b[0mself\u001b[0m \u001b[0;34m-\u001b[0m \u001b[0mother\u001b[0m\u001b[0;34m\u001b[0m\u001b[0;34m\u001b[0m\u001b[0m\n",
      "... last 1 frames repeated, from the frame below ...\n",
      "\u001b[0;32m<ipython-input-45-9984a51db31e>\u001b[0m in \u001b[0;36m__add__\u001b[0;34m(self, other)\u001b[0m\n\u001b[1;32m      1\u001b[0m \u001b[0;32mclass\u001b[0m \u001b[0mTry_int\u001b[0m\u001b[0;34m(\u001b[0m\u001b[0mint\u001b[0m\u001b[0;34m)\u001b[0m\u001b[0;34m:\u001b[0m\u001b[0;34m\u001b[0m\u001b[0;34m\u001b[0m\u001b[0m\n\u001b[1;32m      2\u001b[0m     \u001b[0;32mdef\u001b[0m \u001b[0m__add__\u001b[0m\u001b[0;34m(\u001b[0m\u001b[0mself\u001b[0m\u001b[0;34m,\u001b[0m\u001b[0mother\u001b[0m\u001b[0;34m)\u001b[0m\u001b[0;34m:\u001b[0m\u001b[0;34m\u001b[0m\u001b[0;34m\u001b[0m\u001b[0m\n\u001b[0;32m----> 3\u001b[0;31m         \u001b[0;32mreturn\u001b[0m \u001b[0mself\u001b[0m \u001b[0;34m+\u001b[0m \u001b[0mother\u001b[0m   \u001b[0;31m#只要对象‘+’就会调用add，返回时仍然是对象self + other，死循环\u001b[0m\u001b[0;34m\u001b[0m\u001b[0;34m\u001b[0m\u001b[0m\n\u001b[0m\u001b[1;32m      4\u001b[0m     \u001b[0;32mdef\u001b[0m \u001b[0m__sub__\u001b[0m\u001b[0;34m(\u001b[0m\u001b[0mself\u001b[0m\u001b[0;34m,\u001b[0m\u001b[0mother\u001b[0m\u001b[0;34m)\u001b[0m\u001b[0;34m:\u001b[0m\u001b[0;34m\u001b[0m\u001b[0;34m\u001b[0m\u001b[0m\n\u001b[1;32m      5\u001b[0m         \u001b[0;32mreturn\u001b[0m \u001b[0mself\u001b[0m \u001b[0;34m-\u001b[0m \u001b[0mother\u001b[0m\u001b[0;34m\u001b[0m\u001b[0;34m\u001b[0m\u001b[0m\n",
      "\u001b[0;31mRecursionError\u001b[0m: maximum recursion depth exceeded"
     ]
    }
   ],
   "source": [
    "class Try_int(int):\n",
    "    def __add__(self,other):\n",
    "        return self + other   #只要对象‘+’就会调用add，返回时仍然是对象self + other，死循环\n",
    "    def __sub__(self,other):\n",
    "        return self - other\n",
    "    \n",
    "a = Try_int(3)\n",
    "b = Try_int(5)\n",
    "a + b  #python设置了递归的最大深度     #是加法运算，就调用add方法\n",
    "#当a + b时出现加法，则他会自动调用前者a的add方法，返回self+other，self是实例化对象绑定的，即a，other是加法右边的数b\n",
    "#又返回a + b。则就进入了无限递归。(递归：函数通过直接或间接的方式对自身调用)"
   ]
  },
  {
   "cell_type": "code",
   "execution_count": 1,
   "metadata": {},
   "outputs": [
    {
     "data": {
      "text/plain": [
       "8"
      ]
     },
     "execution_count": 1,
     "metadata": {},
     "output_type": "execute_result"
    }
   ],
   "source": [
    "class Try_int(int):\n",
    "    def __add__(self,other):\n",
    "        return int(self) + int(other)   #只要对象‘+’就会调用add，返回时仍然是对象self + other，死循环\n",
    "    def __sub__(self,other):\n",
    "        return int(self) - int(other)   #返回的是整形的实例对象的值，而不是Try_int的实例对象\n",
    "    \n",
    "a = Try_int(3)\n",
    "b = Try_int(5)\n",
    "a + b  \n"
   ]
  },
  {
   "cell_type": "code",
   "execution_count": 2,
   "metadata": {},
   "outputs": [
    {
     "data": {
      "text/plain": [
       "5"
      ]
     },
     "execution_count": 2,
     "metadata": {},
     "output_type": "execute_result"
    }
   ],
   "source": [
    "class int(int):   #此类int变为类对象时，将原来的int覆盖掉\n",
    "    def __add__(self,other):\n",
    "        return int.__sub__(self,other \n",
    "    \n",
    "a = int('5')#实例化对象\n",
    "a"
   ]
  },
  {
   "cell_type": "code",
   "execution_count": 3,
   "metadata": {},
   "outputs": [
    {
     "data": {
      "text/plain": [
       "2"
      ]
     },
     "execution_count": 3,
     "metadata": {},
     "output_type": "execute_result"
    }
   ],
   "source": [
    "b = int(3)\n",
    "a + b"
   ]
  },
  {
   "cell_type": "code",
   "execution_count": null,
   "metadata": {},
   "outputs": [],
   "source": [
    "#反运算\n",
    "a + b   #反运算：当对象a的add方法没实现或不支持相应的操作时，python会自动调用对象b的反运算，即加法反运算操作符\n",
    "#反运算官方文档：反运算在运算符左右类型不同，且左边没有相应运算方法时被调用"
   ]
  },
  {
   "cell_type": "code",
   "execution_count": 2,
   "metadata": {},
   "outputs": [
    {
     "data": {
      "text/plain": [
       "8"
      ]
     },
     "execution_count": 2,
     "metadata": {},
     "output_type": "execute_result"
    }
   ],
   "source": [
    "class Nint(int):\n",
    "    def __radd__(self,other):\n",
    "        return int.__sub__(self,other)\n",
    "a = Nint(5)   #radd未被执行，因为a有add的魔法方法，所以它执行的是a的魔法方法\n",
    "b = Nint(3)\n",
    "a + b"
   ]
  },
  {
   "cell_type": "code",
   "execution_count": 12,
   "metadata": {},
   "outputs": [
    {
     "data": {
      "text/plain": [
       "2"
      ]
     },
     "execution_count": 12,
     "metadata": {},
     "output_type": "execute_result"
    }
   ],
   "source": [
    "1 + b   #b=3 \n",
    "#因为找不到1的add方法，所以就找b，而b有radd方法，则就触发radd。就执行sub方法。即3-1=2\n",
    "#在反运算中，加减法调用的是radd或rsub  如此处进行反运算，又是加法，所以b要调用radd\n",
    "#1是整形，不能调用add  int(1)+Nint(3)==2   self=b,other=1"
   ]
  },
  {
   "cell_type": "code",
   "execution_count": 3,
   "metadata": {},
   "outputs": [
    {
     "data": {
      "text/plain": [
       "2"
      ]
     },
     "execution_count": 3,
     "metadata": {},
     "output_type": "execute_result"
    }
   ],
   "source": [
    "class Nint(int):\n",
    "    def __rsub__(self,other):\n",
    "        return int.__sub__(self,other)\n",
    "    \n",
    "a = Nint(5)  #a=5\n",
    "3 - a   #因为找不到3的sub方法，所以就找a，而a有rsub方法，则就触发rsub。就执行sub方法。即5-3=2"
   ]
  },
  {
   "cell_type": "code",
   "execution_count": 8,
   "metadata": {},
   "outputs": [
    {
     "ename": "SyntaxError",
     "evalue": "invalid character in identifier (<ipython-input-8-1ae20fa64acf>, line 3)",
     "output_type": "error",
     "traceback": [
      "\u001b[0;36m  File \u001b[0;32m\"<ipython-input-8-1ae20fa64acf>\"\u001b[0;36m, line \u001b[0;32m3\u001b[0m\n\u001b[0;31m    return int.__sub__(other，self)\u001b[0m\n\u001b[0m                                ^\u001b[0m\n\u001b[0;31mSyntaxError\u001b[0m\u001b[0;31m:\u001b[0m invalid character in identifier\n"
     ]
    }
   ],
   "source": [
    "class Nint(int):\n",
    "    def __rsub__(self,other):\n",
    "        return int.__sub__(other，self)\n",
    "    \n",
    "a = Nint(5) \n",
    "3 - a"
   ]
  },
  {
   "cell_type": "code",
   "execution_count": null,
   "metadata": {},
   "outputs": [],
   "source": [
    "#一元操作符：只有一个操作数\n",
    "#a+b为“+”二元操作符"
   ]
  },
  {
   "cell_type": "code",
   "execution_count": 3,
   "metadata": {},
   "outputs": [
    {
     "ename": "ModuleNotFoundError",
     "evalue": "No module named 'MyTimer'",
     "output_type": "error",
     "traceback": [
      "\u001b[0;31m---------------------------------------------------------------------------\u001b[0m",
      "\u001b[0;31mModuleNotFoundError\u001b[0m                       Traceback (most recent call last)",
      "\u001b[0;32m<ipython-input-3-7d935be7b224>\u001b[0m in \u001b[0;36m<module>\u001b[0;34m\u001b[0m\n\u001b[0;32m----> 1\u001b[0;31m \u001b[0;32mimport\u001b[0m \u001b[0mMyTimer\u001b[0m\u001b[0;34m\u001b[0m\u001b[0;34m\u001b[0m\u001b[0m\n\u001b[0m\u001b[1;32m      2\u001b[0m \u001b[0mt1\u001b[0m \u001b[0;34m=\u001b[0m \u001b[0mMyTimer\u001b[0m\u001b[0;34m(\u001b[0m\u001b[0;34m)\u001b[0m\u001b[0;34m\u001b[0m\u001b[0;34m\u001b[0m\u001b[0m\n\u001b[1;32m      3\u001b[0m \u001b[0mt1\u001b[0m\u001b[0;34m\u001b[0m\u001b[0;34m\u001b[0m\u001b[0m\n",
      "\u001b[0;31mModuleNotFoundError\u001b[0m: No module named 'MyTimer'"
     ]
    }
   ],
   "source": [
    "import MyTimer\n",
    "t1 = MyTimer()\n",
    "t1"
   ]
  },
  {
   "cell_type": "code",
   "execution_count": 10,
   "metadata": {},
   "outputs": [
    {
     "name": "stdout",
     "output_type": "stream",
     "text": [
      "convolution\n"
     ]
    }
   ],
   "source": [
    "#重写方法str,repr\n",
    "#重写某对象的__str__,可改写print（对象）输出\n",
    "class A():  #（）不影响类的定义  python2不需（），python3要用（）。但都可以用。（）里没参数，表明默认继承object\n",
    "    def __str__(self):  \n",
    "        return \"convolution\"\n",
    "    \n",
    "a = A()     ##str：打印时，当需要字符串输出时会被调用\n",
    "print(a)     #需打印"
   ]
  },
  {
   "cell_type": "code",
   "execution_count": 11,
   "metadata": {},
   "outputs": [
    {
     "data": {
      "text/plain": [
       "<__main__.A at 0x7fe9b4198ef0>"
      ]
     },
     "execution_count": 11,
     "metadata": {},
     "output_type": "execute_result"
    }
   ],
   "source": [
    "a  #没东西"
   ]
  },
  {
   "cell_type": "code",
   "execution_count": 15,
   "metadata": {},
   "outputs": [
    {
     "data": {
      "text/plain": [
       "convolution"
      ]
     },
     "execution_count": 15,
     "metadata": {},
     "output_type": "execute_result"
    }
   ],
   "source": [
    "class B():\n",
    "    def __repr__(self):\n",
    "        return 'convolution'\n",
    "    \n",
    "b = B()\n",
    "b      #不需打印，与str作用一样"
   ]
  },
  {
   "cell_type": "code",
   "execution_count": 33,
   "metadata": {},
   "outputs": [
    {
     "name": "stdout",
     "output_type": "stream",
     "text": [
      "convolution\n"
     ]
    }
   ],
   "source": [
    "#定义一个计时器的类\n",
    "import time as t  #t.   表示使用到time模块里的那个方法\n",
    "class Mytime(): #time:计时器\n",
    "    #开始计时\n",
    "    def start(self):   #self:表示对象的引用\n",
    "        self.start = t.localtime()  #time模块里的localtime方法用于获取时间，返回struct_time的时间格式的元组\n",
    "    print('convolution')  \n",
    "    #停止计时\n",
    "    def stop(self):    \n",
    "        self.stop = t.localtime()   #self.stop是一个元组       同名的属性在同名的方法里,属性覆盖方法\n",
    "        self._calc()        #当下次调用方法时会报错\n",
    "        print('activation')\n",
    "        \n",
    "#内部方法，计算运行时间\n",
    "    def _calc(self):    #单下划线表示形式上的私有方法\n",
    "        self.lasted = []     #类里的局部变量    #类属性可在执行时添加\n",
    "        self.prompt = 'classification'\n",
    "        for index in range(6):   #只用struct_time里的前面6个元素（年月日时分秒）\n",
    "            self.lasted.append(self.stop[index]-self.start[index])  #添加二者的差值，localtime里的年月日时分秒诼一相减才有差值\n",
    "            self.prompt += str(self.lasted[index])  #在列表中索引\n",
    "            \n",
    "        print(self.prompt)\n",
    "        \n",
    "t1 = Mytime()，\n",
    "t1.start()    #同名的属性在同名的方法里，由于只调用了一次，所以它属于正常调用，但调用之后变为了属性"
   ]
  },
  {
   "cell_type": "code",
   "execution_count": 34,
   "metadata": {},
   "outputs": [
    {
     "ename": "TypeError",
     "evalue": "'time.struct_time' object is not callable",
     "output_type": "error",
     "traceback": [
      "\u001b[0;31m---------------------------------------------------------------------------\u001b[0m",
      "\u001b[0;31mTypeError\u001b[0m                                 Traceback (most recent call last)",
      "\u001b[0;32m<ipython-input-34-7c9ab0382632>\u001b[0m in \u001b[0;36m<module>\u001b[0;34m\u001b[0m\n\u001b[0;32m----> 1\u001b[0;31m \u001b[0mt1\u001b[0m\u001b[0;34m.\u001b[0m\u001b[0mstart\u001b[0m\u001b[0;34m(\u001b[0m\u001b[0;34m)\u001b[0m\u001b[0;34m\u001b[0m\u001b[0;34m\u001b[0m\u001b[0m\n\u001b[0m",
      "\u001b[0;31mTypeError\u001b[0m: 'time.struct_time' object is not callable"
     ]
    }
   ],
   "source": [
    "t1.start()"
   ]
  },
  {
   "cell_type": "code",
   "execution_count": 11,
   "metadata": {},
   "outputs": [
    {
     "name": "stdout",
     "output_type": "stream",
     "text": [
      "classification000004\n",
      "activation\n"
     ]
    }
   ],
   "source": [
    "t1.stop()   #4是最后一位秒，即总共运行了4秒"
   ]
  },
  {
   "cell_type": "code",
   "execution_count": null,
   "metadata": {},
   "outputs": [],
   "source": [
    "#用print(t1) /t1直接显示结果\n",
    "#则重写魔法方法str和repr。 \n",
    "#为了用我们写的方法覆盖原有方法，否则直接输入方法名不能显示时间"
   ]
  },
  {
   "cell_type": "code",
   "execution_count": 19,
   "metadata": {},
   "outputs": [
    {
     "name": "stdout",
     "output_type": "stream",
     "text": [
      "convolution\n"
     ]
    }
   ],
   "source": [
    "#\n",
    "import time as t  #t.   表示使用到time模块里的那个方法\n",
    "\n",
    "class Mytime(): #time:计时器\n",
    "    def __str__(self):\n",
    "        return self.prompt\n",
    "    \n",
    "    __repr__ = __str__    #它俩是一样的\n",
    "    \n",
    "    \n",
    "    #开始计时\n",
    "    def start(self):   #self:表示对象的引用\n",
    "        self.start = t.localtime()  #time模块里的localtime方法用于获取时间，返回struct_time的时间格式的元组\n",
    "    print('convolution')  \n",
    "    #停止计时\n",
    "    def stop(self):    \n",
    "        self.stop = t.localtime()   #self.stop是一个元组  \n",
    "        self._calc()\n",
    "        print('activation')\n",
    "        \n",
    "#内部方法，计算运行时间\n",
    "    def _calc(self):    #单下划线表示形式上的私有方法\n",
    "        self.lasted = []     #类里的局部变量    #类属性可在执行时添加\n",
    "        self.prompt = 'classification'   #python没声明，只有定义（赋值就是定义）\n",
    "        for index in range(6):   #只用struct_time里的前面6个元素（年月日时分秒）\n",
    "            self.lasted.append(self.stop[index]-self.start[index])  #添加二者的差值，localtime里的年月日时分秒诼一相减才有差值\n",
    "            self.prompt += str(self.lasted[index])  #在列表中索引\n",
    "            \n",
    "t1 = Mytime()\n",
    "t1.start()"
   ]
  },
  {
   "cell_type": "code",
   "execution_count": 20,
   "metadata": {},
   "outputs": [
    {
     "name": "stdout",
     "output_type": "stream",
     "text": [
      "activation\n"
     ]
    }
   ],
   "source": [
    "t1.stop()"
   ]
  },
  {
   "cell_type": "code",
   "execution_count": 21,
   "metadata": {},
   "outputs": [
    {
     "data": {
      "text/plain": [
       "classification000006"
      ]
     },
     "execution_count": 21,
     "metadata": {},
     "output_type": "execute_result"
    }
   ],
   "source": [
    "t1    #总共运行了6秒"
   ]
  },
  {
   "cell_type": "code",
   "execution_count": 22,
   "metadata": {},
   "outputs": [
    {
     "ename": "AttributeError",
     "evalue": "'Mytime' object has no attribute 'prompt'",
     "output_type": "error",
     "traceback": [
      "\u001b[0;31m---------------------------------------------------------------------------\u001b[0m",
      "\u001b[0;31mAttributeError\u001b[0m                            Traceback (most recent call last)",
      "\u001b[0;32m~/anaconda3/lib/python3.7/site-packages/IPython/core/formatters.py\u001b[0m in \u001b[0;36m__call__\u001b[0;34m(self, obj)\u001b[0m\n\u001b[1;32m    700\u001b[0m                 \u001b[0mtype_pprinters\u001b[0m\u001b[0;34m=\u001b[0m\u001b[0mself\u001b[0m\u001b[0;34m.\u001b[0m\u001b[0mtype_printers\u001b[0m\u001b[0;34m,\u001b[0m\u001b[0;34m\u001b[0m\u001b[0;34m\u001b[0m\u001b[0m\n\u001b[1;32m    701\u001b[0m                 deferred_pprinters=self.deferred_printers)\n\u001b[0;32m--> 702\u001b[0;31m             \u001b[0mprinter\u001b[0m\u001b[0;34m.\u001b[0m\u001b[0mpretty\u001b[0m\u001b[0;34m(\u001b[0m\u001b[0mobj\u001b[0m\u001b[0;34m)\u001b[0m\u001b[0;34m\u001b[0m\u001b[0;34m\u001b[0m\u001b[0m\n\u001b[0m\u001b[1;32m    703\u001b[0m             \u001b[0mprinter\u001b[0m\u001b[0;34m.\u001b[0m\u001b[0mflush\u001b[0m\u001b[0;34m(\u001b[0m\u001b[0;34m)\u001b[0m\u001b[0;34m\u001b[0m\u001b[0;34m\u001b[0m\u001b[0m\n\u001b[1;32m    704\u001b[0m             \u001b[0;32mreturn\u001b[0m \u001b[0mstream\u001b[0m\u001b[0;34m.\u001b[0m\u001b[0mgetvalue\u001b[0m\u001b[0;34m(\u001b[0m\u001b[0;34m)\u001b[0m\u001b[0;34m\u001b[0m\u001b[0;34m\u001b[0m\u001b[0m\n",
      "\u001b[0;32m~/anaconda3/lib/python3.7/site-packages/IPython/lib/pretty.py\u001b[0m in \u001b[0;36mpretty\u001b[0;34m(self, obj)\u001b[0m\n\u001b[1;32m    400\u001b[0m                         \u001b[0;32mif\u001b[0m \u001b[0mcls\u001b[0m \u001b[0;32mis\u001b[0m \u001b[0;32mnot\u001b[0m \u001b[0mobject\u001b[0m\u001b[0;31m \u001b[0m\u001b[0;31m\\\u001b[0m\u001b[0;34m\u001b[0m\u001b[0;34m\u001b[0m\u001b[0m\n\u001b[1;32m    401\u001b[0m                                 \u001b[0;32mand\u001b[0m \u001b[0mcallable\u001b[0m\u001b[0;34m(\u001b[0m\u001b[0mcls\u001b[0m\u001b[0;34m.\u001b[0m\u001b[0m__dict__\u001b[0m\u001b[0;34m.\u001b[0m\u001b[0mget\u001b[0m\u001b[0;34m(\u001b[0m\u001b[0;34m'__repr__'\u001b[0m\u001b[0;34m)\u001b[0m\u001b[0;34m)\u001b[0m\u001b[0;34m:\u001b[0m\u001b[0;34m\u001b[0m\u001b[0;34m\u001b[0m\u001b[0m\n\u001b[0;32m--> 402\u001b[0;31m                             \u001b[0;32mreturn\u001b[0m \u001b[0m_repr_pprint\u001b[0m\u001b[0;34m(\u001b[0m\u001b[0mobj\u001b[0m\u001b[0;34m,\u001b[0m \u001b[0mself\u001b[0m\u001b[0;34m,\u001b[0m \u001b[0mcycle\u001b[0m\u001b[0;34m)\u001b[0m\u001b[0;34m\u001b[0m\u001b[0;34m\u001b[0m\u001b[0m\n\u001b[0m\u001b[1;32m    403\u001b[0m \u001b[0;34m\u001b[0m\u001b[0m\n\u001b[1;32m    404\u001b[0m             \u001b[0;32mreturn\u001b[0m \u001b[0m_default_pprint\u001b[0m\u001b[0;34m(\u001b[0m\u001b[0mobj\u001b[0m\u001b[0;34m,\u001b[0m \u001b[0mself\u001b[0m\u001b[0;34m,\u001b[0m \u001b[0mcycle\u001b[0m\u001b[0;34m)\u001b[0m\u001b[0;34m\u001b[0m\u001b[0;34m\u001b[0m\u001b[0m\n",
      "\u001b[0;32m~/anaconda3/lib/python3.7/site-packages/IPython/lib/pretty.py\u001b[0m in \u001b[0;36m_repr_pprint\u001b[0;34m(obj, p, cycle)\u001b[0m\n\u001b[1;32m    695\u001b[0m     \u001b[0;34m\"\"\"A pprint that just redirects to the normal repr function.\"\"\"\u001b[0m\u001b[0;34m\u001b[0m\u001b[0;34m\u001b[0m\u001b[0m\n\u001b[1;32m    696\u001b[0m     \u001b[0;31m# Find newlines and replace them with p.break_()\u001b[0m\u001b[0;34m\u001b[0m\u001b[0;34m\u001b[0m\u001b[0;34m\u001b[0m\u001b[0m\n\u001b[0;32m--> 697\u001b[0;31m     \u001b[0moutput\u001b[0m \u001b[0;34m=\u001b[0m \u001b[0mrepr\u001b[0m\u001b[0;34m(\u001b[0m\u001b[0mobj\u001b[0m\u001b[0;34m)\u001b[0m\u001b[0;34m\u001b[0m\u001b[0;34m\u001b[0m\u001b[0m\n\u001b[0m\u001b[1;32m    698\u001b[0m     \u001b[0;32mfor\u001b[0m \u001b[0midx\u001b[0m\u001b[0;34m,\u001b[0m\u001b[0moutput_line\u001b[0m \u001b[0;32min\u001b[0m \u001b[0menumerate\u001b[0m\u001b[0;34m(\u001b[0m\u001b[0moutput\u001b[0m\u001b[0;34m.\u001b[0m\u001b[0msplitlines\u001b[0m\u001b[0;34m(\u001b[0m\u001b[0;34m)\u001b[0m\u001b[0;34m)\u001b[0m\u001b[0;34m:\u001b[0m\u001b[0;34m\u001b[0m\u001b[0;34m\u001b[0m\u001b[0m\n\u001b[1;32m    699\u001b[0m         \u001b[0;32mif\u001b[0m \u001b[0midx\u001b[0m\u001b[0;34m:\u001b[0m\u001b[0;34m\u001b[0m\u001b[0;34m\u001b[0m\u001b[0m\n",
      "\u001b[0;32m<ipython-input-19-2420ae64244b>\u001b[0m in \u001b[0;36m__str__\u001b[0;34m(self)\u001b[0m\n\u001b[1;32m      4\u001b[0m \u001b[0;32mclass\u001b[0m \u001b[0mMytime\u001b[0m\u001b[0;34m(\u001b[0m\u001b[0;34m)\u001b[0m\u001b[0;34m:\u001b[0m \u001b[0;31m#time:计时器\u001b[0m\u001b[0;34m\u001b[0m\u001b[0;34m\u001b[0m\u001b[0m\n\u001b[1;32m      5\u001b[0m     \u001b[0;32mdef\u001b[0m \u001b[0m__str__\u001b[0m\u001b[0;34m(\u001b[0m\u001b[0mself\u001b[0m\u001b[0;34m)\u001b[0m\u001b[0;34m:\u001b[0m\u001b[0;34m\u001b[0m\u001b[0;34m\u001b[0m\u001b[0m\n\u001b[0;32m----> 6\u001b[0;31m         \u001b[0;32mreturn\u001b[0m \u001b[0mself\u001b[0m\u001b[0;34m.\u001b[0m\u001b[0mprompt\u001b[0m\u001b[0;34m\u001b[0m\u001b[0;34m\u001b[0m\u001b[0m\n\u001b[0m\u001b[1;32m      7\u001b[0m \u001b[0;34m\u001b[0m\u001b[0m\n\u001b[1;32m      8\u001b[0m     \u001b[0m__repr__\u001b[0m \u001b[0;34m=\u001b[0m \u001b[0m__str__\u001b[0m    \u001b[0;31m#它俩是一样的\u001b[0m\u001b[0;34m\u001b[0m\u001b[0;34m\u001b[0m\u001b[0m\n",
      "\u001b[0;31mAttributeError\u001b[0m: 'Mytime' object has no attribute 'prompt'"
     ]
    }
   ],
   "source": [
    "t1 = Mytime()\n",
    "t1\n",
    "#直接调用t1时，python会调用str/repr的魔法方法（repr与str一样，所以最终调用str的魔法方法）\n",
    "#调用t1,此对象先找repr方法；调用print（t1），则找str方法\n",
    "#而self.prompt在此方法中没有定义，它在内部方法中定义（赋值就为定义）\n",
    "#应先通过start、stop之后，self.prompt才能被调用\n",
    "#所有属于实例对象的变量在init里先定义，就没问题"
   ]
  },
  {
   "cell_type": "code",
   "execution_count": 52,
   "metadata": {},
   "outputs": [
    {
     "name": "stdout",
     "output_type": "stream",
     "text": [
      "convolution\n"
     ]
    },
    {
     "data": {
      "text/plain": [
       "classification"
      ]
     },
     "execution_count": 52,
     "metadata": {},
     "output_type": "execute_result"
    }
   ],
   "source": [
    "#\n",
    "import time as t  #t.   表示使用到time模块里的那个方法\n",
    "\n",
    "class Mytime(): #time:计时器\n",
    "    def __init__(self):   #添加初始化\n",
    "        self.prompt = 'classification'\n",
    "        self.lasted = []\n",
    "        self.start = 0    #属性覆盖方法  \n",
    "        self.stop = 0\n",
    "    \n",
    "    def __str__(self):\n",
    "        return self.prompt\n",
    "    \n",
    "    __repr__ = __str__    #它俩是一样的\n",
    "       \n",
    "    \n",
    "    #开始计时\n",
    "    def start(self):   #self:表示对象的引用\n",
    "        self.start = t.localtime()  #time模块里的localtime方法用于获取时间，返回struct_time的时间格式的元组\n",
    "    print('convolution')  \n",
    "    #停止计时\n",
    "    def stop(self):    \n",
    "        self.stop = t.localtime()   #self.stop是一个元组    同名的属性在同名的方法里\n",
    "        self._calc()\n",
    "        print('activation')\n",
    "        \n",
    "#内部方法，计算运行时间\n",
    "    def _calc(self):    #单下划线表示形式上的私有方法\n",
    "        self.lasted = []     #类里的局部变量    #类属性可在执行时添加\n",
    "        self.prompt = 'classification'\n",
    "        for index in range(6):   #只用struct_time里的前面6个元素（年月日时分秒）\n",
    "            self.lasted.append(self.stop[index]-self.start[index])  #添加二者的差值，localtime里的年月日时分秒诼一相减才有差值\n",
    "            self.prompt += str(self.lasted[index])  #在列表中索引\n",
    "            \n",
    "t1 = Mytime()\n",
    "t1"
   ]
  },
  {
   "cell_type": "code",
   "execution_count": 29,
   "metadata": {},
   "outputs": [
    {
     "ename": "TypeError",
     "evalue": "'int' object is not callable",
     "output_type": "error",
     "traceback": [
      "\u001b[0;31m---------------------------------------------------------------------------\u001b[0m",
      "\u001b[0;31mTypeError\u001b[0m                                 Traceback (most recent call last)",
      "\u001b[0;32m<ipython-input-29-03344db7644d>\u001b[0m in \u001b[0;36m<module>\u001b[0;34m\u001b[0m\n\u001b[0;32m----> 1\u001b[0;31m \u001b[0mt1\u001b[0m\u001b[0;34m.\u001b[0m\u001b[0mstart\u001b[0m\u001b[0;34m(\u001b[0m\u001b[0;34m)\u001b[0m    \u001b[0;31m#callable(调用)    这里整型指start（），因为他被属性覆盖了，即它变为属性，即t1调用的是属性start\u001b[0m\u001b[0;34m\u001b[0m\u001b[0;34m\u001b[0m\u001b[0m\n\u001b[0m\u001b[1;32m      2\u001b[0m \u001b[0;31m#注意：整形不能被调用（整型不能被当作函数或对象被调用）\u001b[0m\u001b[0;34m\u001b[0m\u001b[0;34m\u001b[0m\u001b[0;34m\u001b[0m\u001b[0m\n",
      "\u001b[0;31mTypeError\u001b[0m: 'int' object is not callable"
     ]
    }
   ],
   "source": [
    "t1.start()    #callable(调用)    这里整型指start（），因为他被属性覆盖了，即它变为属性，即t1调用的是属性start\n",
    "#注意：整形不能被调用（整型不能被当作函数或对象被调用）"
   ]
  },
  {
   "cell_type": "code",
   "execution_count": 40,
   "metadata": {},
   "outputs": [
    {
     "name": "stdout",
     "output_type": "stream",
     "text": [
      "convolution\n"
     ]
    },
    {
     "data": {
      "text/plain": [
       "classification"
      ]
     },
     "execution_count": 40,
     "metadata": {},
     "output_type": "execute_result"
    }
   ],
   "source": [
    "#\n",
    "import time as t  #t.   表示使用到time模块里的那个方法\n",
    "\n",
    "class Mytime(): #time:计时器\n",
    "    def __init__(self):   #添加初始化\n",
    "        self.prompt = 'classification'\n",
    "        self.lasted = []\n",
    "        self.begin = 0   \n",
    "        self.end = 0\n",
    "    \n",
    "    def __str__(self):\n",
    "        return self.prompt\n",
    "    \n",
    "    __repr__ = __str__    #它俩是一样的\n",
    "        \n",
    "    \n",
    "    #开始计时\n",
    "    def start(self):   #self:表示对象的引用\n",
    "        self.begin = t.localtime()  #time模块里的localtime方法用于获取时间，返回struct_time的时间格式的元组\n",
    "    print('convolution')  \n",
    "    #停止计时\n",
    "    def stop(self):    \n",
    "        self.end = t.localtime()   #self.stop是一个元组    \n",
    "        self._calc()\n",
    "        print('activation')\n",
    "        \n",
    "#内部方法，计算运行时间\n",
    "    def _calc(self):    #单下划线表示形式上的私有方法\n",
    "        self.lasted = []     #类里的局部变量    #类属性可在执行时添加\n",
    "        self.prompt = 'classification'\n",
    "        for index in range(6):   #只用struct_time里的前面6个元素（年月日时分秒）\n",
    "            self.lasted.append(self.end[index]-self.begin[index])  #添加二者的差值，localtime里的年月日时分秒诼一相减才有差值\n",
    "            self.prompt += str(self.lasted[index])  #在列表中索引\n",
    "            \n",
    "t1 = Mytime()\n",
    "t1"
   ]
  },
  {
   "cell_type": "code",
   "execution_count": 46,
   "metadata": {},
   "outputs": [],
   "source": [
    "t1.start()"
   ]
  },
  {
   "cell_type": "code",
   "execution_count": 42,
   "metadata": {},
   "outputs": [
    {
     "name": "stdout",
     "output_type": "stream",
     "text": [
      "activation\n"
     ]
    }
   ],
   "source": [
    "t1.stop()"
   ]
  },
  {
   "cell_type": "code",
   "execution_count": 50,
   "metadata": {},
   "outputs": [
    {
     "data": {
      "text/plain": [
       "classification00003-12"
      ]
     },
     "execution_count": 50,
     "metadata": {},
     "output_type": "execute_result"
    }
   ],
   "source": [
    "t1"
   ]
  },
  {
   "cell_type": "code",
   "execution_count": 59,
   "metadata": {},
   "outputs": [
    {
     "name": "stdout",
     "output_type": "stream",
     "text": [
      "convolution\n"
     ]
    }
   ],
   "source": [
    "#\n",
    "import time as t  #t.   表示使用到time模块里的那个方法\n",
    "\n",
    "class Mytime(): #time:计时器\n",
    "    def __init__(self):   #添加初始化\n",
    "        self.init = ['年','月','日','时','分','秒']\n",
    "        self.prompt = 'classification'\n",
    "        self.lasted = []\n",
    "        self.begin = 0   \n",
    "        self.end = 0\n",
    "    \n",
    "    def __str__(self):\n",
    "        return self.prompt\n",
    "    \n",
    "    __repr__ = __str__    #它俩是一样的\n",
    "        \n",
    "    \n",
    "    #开始计时\n",
    "    def start(self):   #self:表示对象的引用\n",
    "        self.begin = t.localtime()  #time模块里的localtime方法用于获取时间，返回struct_time的时间格式的元组\n",
    "    print('convolution')  \n",
    "    #停止计时\n",
    "    def stop(self):    \n",
    "        self.end = t.localtime()   #self.stop是一个元组    \n",
    "        self._calc()\n",
    "        print('activation')\n",
    "        \n",
    "#内部方法，计算运行时间\n",
    "    def _calc(self):    #单下划线表示形式上的私有方法\n",
    "        self.lasted = []     #类里的局部变量    #类属性可在执行时添加\n",
    "        self.prompt = 'classification'\n",
    "        for index in range(6):   #只用struct_time里的前面6个元素（年月日时分秒）\n",
    "            self.lasted.append(self.end[index]-self.begin[index])  #添加二者的差值，localtime里的年月日时分秒诼一相减才有差值\n",
    "            if self.lasted[index]:  #若lasted[index]为0,则不显示\n",
    "                self.prompt += str(self.lasted[index])  + self.init[index]#在列表中索引\n",
    "            \n",
    "t1 = Mytime()\n",
    "t1.start()"
   ]
  },
  {
   "cell_type": "code",
   "execution_count": 60,
   "metadata": {},
   "outputs": [
    {
     "name": "stdout",
     "output_type": "stream",
     "text": [
      "activation\n"
     ]
    }
   ],
   "source": [
    "t1.stop()"
   ]
  },
  {
   "cell_type": "code",
   "execution_count": 61,
   "metadata": {},
   "outputs": [
    {
     "data": {
      "text/plain": [
       "classification1分-54秒"
      ]
     },
     "execution_count": 61,
     "metadata": {},
     "output_type": "execute_result"
    }
   ],
   "source": [
    "t1"
   ]
  },
  {
   "cell_type": "code",
   "execution_count": 69,
   "metadata": {},
   "outputs": [
    {
     "name": "stdout",
     "output_type": "stream",
     "text": [
      "convolution\n"
     ]
    }
   ],
   "source": [
    "#\n",
    "import time as t  #t.   表示使用到time模块里的那个方法\n",
    "\n",
    "class Mytime(): #time:计时器\n",
    "    def __init__(self):   #添加初始化\n",
    "        self.init = ['年','月','日','时','分','秒']\n",
    "        self.prompt = 'classification'\n",
    "        self.lasted = []\n",
    "        self.begin = 0   \n",
    "        self.end = 0\n",
    "    \n",
    "    def __str__(self):\n",
    "        return self.prompt\n",
    "    \n",
    "    __repr__ = __str__    #它俩是一样的\n",
    "        \n",
    "    \n",
    "    #开始计时\n",
    "    def start(self):   #self:表示对象的引用\n",
    "        self.begin = t.localtime()  #time模块里的localtime方法用于获取时间，返回struct_time的时间格式的元组\n",
    "        self.prompt = '先调用stop（）停止计时'\n",
    "    print('convolution')  \n",
    "    #停止计时\n",
    "    def stop(self):   \n",
    "        if not self.begin:    #初始化begin为0,not 0为真   若begin已经有值，则说明已经start了\n",
    "            print('先调用start（）运行计时')\n",
    "        self.end = t.localtime()   #self.stop是一个元组    \n",
    "        self._calc()\n",
    "        print('activation')\n",
    "        \n",
    "#内部方法，计算运行时间\n",
    "    def _calc(self):    #单下划线表示形式上的私有方法\n",
    "        self.lasted = []     #类里的局部变量    #类属性可在执行时添加\n",
    "        self.prompt = 'classification'\n",
    "        for index in range(6):   #只用struct_time里的前面6个元素（年月日时分秒）\n",
    "            self.lasted.append(self.end[index]-self.begin[index])  #添加二者的差值，localtime里的年月日时分秒诼一相减才有差值\n",
    "            if self.lasted[index]:  #若lasted[index]为0,则不显示\n",
    "                self.prompt += str(self.lasted[index])  +self.init[index]#在列表中索引\n",
    "            #为下一轮计时初始化变量\n",
    "            self.begin = 0\n",
    "            self.end = 0\n",
    "t1 = Mytime()\n",
    "t1.start()"
   ]
  },
  {
   "cell_type": "code",
   "execution_count": 70,
   "metadata": {},
   "outputs": [
    {
     "data": {
      "text/plain": [
       "先调用stop（）停止计时"
      ]
     },
     "execution_count": 70,
     "metadata": {},
     "output_type": "execute_result"
    }
   ],
   "source": [
    "t1"
   ]
  },
  {
   "cell_type": "code",
   "execution_count": 66,
   "metadata": {},
   "outputs": [
    {
     "name": "stdout",
     "output_type": "stream",
     "text": [
      "先调用start（）运行计时\n"
     ]
    },
    {
     "ename": "TypeError",
     "evalue": "'int' object is not subscriptable",
     "output_type": "error",
     "traceback": [
      "\u001b[0;31m---------------------------------------------------------------------------\u001b[0m",
      "\u001b[0;31mTypeError\u001b[0m                                 Traceback (most recent call last)",
      "\u001b[0;32m<ipython-input-66-8bdea294070f>\u001b[0m in \u001b[0;36m<module>\u001b[0;34m\u001b[0m\n\u001b[0;32m----> 1\u001b[0;31m \u001b[0mt1\u001b[0m\u001b[0;34m.\u001b[0m\u001b[0mstop\u001b[0m\u001b[0;34m(\u001b[0m\u001b[0;34m)\u001b[0m\u001b[0;34m\u001b[0m\u001b[0;34m\u001b[0m\u001b[0m\n\u001b[0m",
      "\u001b[0;32m<ipython-input-65-54ba1d56a009>\u001b[0m in \u001b[0;36mstop\u001b[0;34m(self)\u001b[0m\n\u001b[1;32m     26\u001b[0m             \u001b[0mprint\u001b[0m\u001b[0;34m(\u001b[0m\u001b[0;34m'先调用start（）运行计时'\u001b[0m\u001b[0;34m)\u001b[0m\u001b[0;34m\u001b[0m\u001b[0;34m\u001b[0m\u001b[0m\n\u001b[1;32m     27\u001b[0m         \u001b[0mself\u001b[0m\u001b[0;34m.\u001b[0m\u001b[0mend\u001b[0m \u001b[0;34m=\u001b[0m \u001b[0mt\u001b[0m\u001b[0;34m.\u001b[0m\u001b[0mlocaltime\u001b[0m\u001b[0;34m(\u001b[0m\u001b[0;34m)\u001b[0m   \u001b[0;31m#self.stop是一个元组\u001b[0m\u001b[0;34m\u001b[0m\u001b[0;34m\u001b[0m\u001b[0m\n\u001b[0;32m---> 28\u001b[0;31m         \u001b[0mself\u001b[0m\u001b[0;34m.\u001b[0m\u001b[0m_calc\u001b[0m\u001b[0;34m(\u001b[0m\u001b[0;34m)\u001b[0m\u001b[0;34m\u001b[0m\u001b[0;34m\u001b[0m\u001b[0m\n\u001b[0m\u001b[1;32m     29\u001b[0m         \u001b[0mprint\u001b[0m\u001b[0;34m(\u001b[0m\u001b[0;34m'activation'\u001b[0m\u001b[0;34m)\u001b[0m\u001b[0;34m\u001b[0m\u001b[0;34m\u001b[0m\u001b[0m\n\u001b[1;32m     30\u001b[0m \u001b[0;34m\u001b[0m\u001b[0m\n",
      "\u001b[0;32m<ipython-input-65-54ba1d56a009>\u001b[0m in \u001b[0;36m_calc\u001b[0;34m(self)\u001b[0m\n\u001b[1;32m     34\u001b[0m         \u001b[0mself\u001b[0m\u001b[0;34m.\u001b[0m\u001b[0mprompt\u001b[0m \u001b[0;34m=\u001b[0m \u001b[0;34m'classification'\u001b[0m\u001b[0;34m\u001b[0m\u001b[0;34m\u001b[0m\u001b[0m\n\u001b[1;32m     35\u001b[0m         \u001b[0;32mfor\u001b[0m \u001b[0mindex\u001b[0m \u001b[0;32min\u001b[0m \u001b[0mrange\u001b[0m\u001b[0;34m(\u001b[0m\u001b[0;36m6\u001b[0m\u001b[0;34m)\u001b[0m\u001b[0;34m:\u001b[0m   \u001b[0;31m#只用struct_time里的前面6个元素（年月日时分秒）\u001b[0m\u001b[0;34m\u001b[0m\u001b[0;34m\u001b[0m\u001b[0m\n\u001b[0;32m---> 36\u001b[0;31m             \u001b[0mself\u001b[0m\u001b[0;34m.\u001b[0m\u001b[0mlasted\u001b[0m\u001b[0;34m.\u001b[0m\u001b[0mappend\u001b[0m\u001b[0;34m(\u001b[0m\u001b[0mself\u001b[0m\u001b[0;34m.\u001b[0m\u001b[0mend\u001b[0m\u001b[0;34m[\u001b[0m\u001b[0mindex\u001b[0m\u001b[0;34m]\u001b[0m\u001b[0;34m-\u001b[0m\u001b[0mself\u001b[0m\u001b[0;34m.\u001b[0m\u001b[0mbegin\u001b[0m\u001b[0;34m[\u001b[0m\u001b[0mindex\u001b[0m\u001b[0;34m]\u001b[0m\u001b[0;34m)\u001b[0m  \u001b[0;31m#添加二者的差值，localtime里的年月日时分秒诼一相减才有差值\u001b[0m\u001b[0;34m\u001b[0m\u001b[0;34m\u001b[0m\u001b[0m\n\u001b[0m\u001b[1;32m     37\u001b[0m             \u001b[0;32mif\u001b[0m \u001b[0mself\u001b[0m\u001b[0;34m.\u001b[0m\u001b[0mlasted\u001b[0m\u001b[0;34m[\u001b[0m\u001b[0mindex\u001b[0m\u001b[0;34m]\u001b[0m\u001b[0;34m:\u001b[0m  \u001b[0;31m#若lasted[index]为0,则不显示\u001b[0m\u001b[0;34m\u001b[0m\u001b[0;34m\u001b[0m\u001b[0m\n\u001b[1;32m     38\u001b[0m                 \u001b[0mself\u001b[0m\u001b[0;34m.\u001b[0m\u001b[0mprompt\u001b[0m \u001b[0;34m+=\u001b[0m \u001b[0mstr\u001b[0m\u001b[0;34m(\u001b[0m\u001b[0mself\u001b[0m\u001b[0;34m.\u001b[0m\u001b[0mlasted\u001b[0m\u001b[0;34m[\u001b[0m\u001b[0mindex\u001b[0m\u001b[0;34m]\u001b[0m\u001b[0;34m)\u001b[0m  \u001b[0;34m+\u001b[0m\u001b[0mself\u001b[0m\u001b[0;34m.\u001b[0m\u001b[0minit\u001b[0m\u001b[0;34m[\u001b[0m\u001b[0mindex\u001b[0m\u001b[0;34m]\u001b[0m\u001b[0;31m#在列表中索引\u001b[0m\u001b[0;34m\u001b[0m\u001b[0;34m\u001b[0m\u001b[0m\n",
      "\u001b[0;31mTypeError\u001b[0m: 'int' object is not subscriptable"
     ]
    }
   ],
   "source": [
    "t1.stop()"
   ]
  },
  {
   "cell_type": "code",
   "execution_count": 68,
   "metadata": {},
   "outputs": [],
   "source": [
    "t1.start()"
   ]
  },
  {
   "cell_type": "code",
   "execution_count": null,
   "metadata": {},
   "outputs": [],
   "source": []
  },
  {
   "cell_type": "code",
   "execution_count": null,
   "metadata": {},
   "outputs": [],
   "source": []
  },
  {
   "cell_type": "code",
   "execution_count": null,
   "metadata": {},
   "outputs": [],
   "source": []
  }
 ],
 "metadata": {
  "kernelspec": {
   "display_name": "Python 3",
   "language": "python",
   "name": "python3"
  },
  "language_info": {
   "codemirror_mode": {
    "name": "ipython",
    "version": 3
   },
   "file_extension": ".py",
   "mimetype": "text/x-python",
   "name": "python",
   "nbconvert_exporter": "python",
   "pygments_lexer": "ipython3",
   "version": "3.7.3"
  }
 },
 "nbformat": 4,
 "nbformat_minor": 2
}
