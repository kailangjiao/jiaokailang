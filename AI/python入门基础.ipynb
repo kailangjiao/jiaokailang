{
 "cells": [
  {
   "cell_type": "code",
   "execution_count": 3,
   "metadata": {},
   "outputs": [
    {
     "name": "stdout",
     "output_type": "stream",
     "text": [
      "long: 14\n"
     ]
    }
   ],
   "source": [
    "a = 'thisismystring'\n",
    "print('long:',len(a))"
   ]
  },
  {
   "cell_type": "code",
   "execution_count": 1,
   "metadata": {},
   "outputs": [
    {
     "name": "stdout",
     "output_type": "stream",
     "text": [
      "long: 1\n"
     ]
    }
   ],
   "source": [
    "a = ['this is my string']\n",
    "for i in a:\n",
    "    print('long:',len(a))\n",
    "\n",
    "    "
   ]
  },
  {
   "cell_type": "code",
   "execution_count": 11,
   "metadata": {},
   "outputs": [
    {
     "ename": "SyntaxError",
     "evalue": "invalid syntax (<ipython-input-11-6edfe75aa51d>, line 10)",
     "output_type": "error",
     "traceback": [
      "\u001b[0;36m  File \u001b[0;32m\"<ipython-input-11-6edfe75aa51d>\"\u001b[0;36m, line \u001b[0;32m10\u001b[0m\n\u001b[0;31m    i+=1\u001b[0m\n\u001b[0m    ^\u001b[0m\n\u001b[0;31mSyntaxError\u001b[0m\u001b[0;31m:\u001b[0m invalid syntax\n"
     ]
    }
   ],
   "source": [
    "i = 1\n",
    "a = '*'g                                                                                                                           \n",
    "a = 1\n",
    "while i<10 :\n",
    "    if i<6:\n",
    "        print(a*i)\n",
    "    else:\n",
    "        a+=1\n",
    "        print(a*(i-a)\n",
    "    i+=1"
   ]
  },
  {
   "cell_type": "code",
   "execution_count": 5,
   "metadata": {},
   "outputs": [
    {
     "name": "stdout",
     "output_type": "stream",
     "text": [
      "1132\n"
     ]
    }
   ],
   "source": [
    "import random\n",
    "a = random.randint(1,4)\n",
    "b = random.randint(1,4)\n",
    "c = random.randint(1,4)\n",
    "d = random.randint(1,4)\n",
    "a!=b\n",
    "b!=c\n",
    "c!=d\n",
    "a!=d\n",
    "print(str(a)+str(b)+str(c)+str(d))"
   ]
  },
  {
   "cell_type": "code",
   "execution_count": 1,
   "metadata": {},
   "outputs": [],
   "source": [
    "def address ():\n",
    "    b = open('/home/jiaokailang/桌面','w')\n",
    "    a = {'name':'dawei','telephone':'18877332233','work':'student'}\n",
    "    print (a)\n",
    "    b.write(a)\n",
    "    f.close()\n",
    "    \n",
    "    \n"
   ]
  },
  {
   "cell_type": "code",
   "execution_count": null,
   "metadata": {},
   "outputs": [],
   "source": []
  },
  {
   "cell_type": "code",
   "execution_count": null,
   "metadata": {},
   "outputs": [],
   "source": []
  },
  {
   "cell_type": "code",
   "execution_count": 5,
   "metadata": {},
   "outputs": [
    {
     "name": "stdout",
     "output_type": "stream",
     "text": [
      "12.56\n"
     ]
    }
   ],
   "source": [
    "def circlearea(r):\n",
    "    a = 3.14*r**2\n",
    "    print(a)\n",
    "    \n",
    "circlearea(2)\n",
    "  "
   ]
  },
  {
   "cell_type": "code",
   "execution_count": 6,
   "metadata": {},
   "outputs": [
    {
     "name": "stdout",
     "output_type": "stream",
     "text": [
      "37.68\n"
     ]
    }
   ],
   "source": [
    "def circlegirth(r):\n",
    "    a=4*3.14*r\n",
    "    print(a)\n",
    "circlegirth(3)"
   ]
  },
  {
   "cell_type": "code",
   "execution_count": 2,
   "metadata": {},
   "outputs": [
    {
     "name": "stdout",
     "output_type": "stream",
     "text": [
      "摄氏温度为：34\n",
      "华氏温度为： 93.2\n"
     ]
    }
   ],
   "source": [
    "def sheshi():\n",
    "    a = input('摄氏温度为：') \n",
    "    #print (a)\n",
    "    b = 9/5*int(a)+32    \n",
    "    print('华氏温度为：',b)    \n",
    "sheshi()"
   ]
  },
  {
   "cell_type": "code",
   "execution_count": 22,
   "metadata": {},
   "outputs": [],
   "source": [
    "import random \n",
    "i = 0\n",
    "f = open('/home/jiaokailang/桌面/data.txt','w')\n",
    "while i<100000:\n",
    "    i += 1   \n",
    "    f.write(str(random.randint(1,100))+'\\n')\n",
    "f.close() \n",
    "    "
   ]
  },
  {
   "cell_type": "code",
   "execution_count": null,
   "metadata": {},
   "outputs": [],
   "source": [
    "\n",
    "i = 1\n",
    "f = open('/home/jiaokailang/桌面/data.txt','r')\n",
    "while i<10:\n",
    "    i+=1    \n",
    "    a = f.readline()+'\\n'\n",
    "    b = list(a)\n",
    "    c = '第'+'i'+'行'\n",
    "    print(c+' '+a)\n",
    "f.close()"
   ]
  },
  {
   "cell_type": "code",
   "execution_count": 3,
   "metadata": {},
   "outputs": [
    {
     "name": "stdout",
     "output_type": "stream",
     "text": [
      "输入第一个值为的\n"
     ]
    },
    {
     "ename": "ValueError",
     "evalue": "invalid literal for int() with base 10: '的'",
     "output_type": "error",
     "traceback": [
      "\u001b[0;31m---------------------------------------------------------------------------\u001b[0m",
      "\u001b[0;31mValueError\u001b[0m                                Traceback (most recent call last)",
      "\u001b[0;32m<ipython-input-3-abca94e70fd9>\u001b[0m in \u001b[0;36m<module>\u001b[0;34m\u001b[0m\n\u001b[0;32m----> 1\u001b[0;31m \u001b[0ma\u001b[0m \u001b[0;34m=\u001b[0m \u001b[0mint\u001b[0m\u001b[0;34m(\u001b[0m\u001b[0minput\u001b[0m\u001b[0;34m(\u001b[0m\u001b[0;34m'输入第一个值为'\u001b[0m\u001b[0;34m)\u001b[0m\u001b[0;34m)\u001b[0m\u001b[0;34m\u001b[0m\u001b[0;34m\u001b[0m\u001b[0m\n\u001b[0m\u001b[1;32m      2\u001b[0m \u001b[0mb\u001b[0m \u001b[0;34m=\u001b[0m \u001b[0mint\u001b[0m\u001b[0;34m(\u001b[0m\u001b[0minput\u001b[0m\u001b[0;34m(\u001b[0m\u001b[0;34m'输入第二个值为'\u001b[0m\u001b[0;34m)\u001b[0m\u001b[0;34m)\u001b[0m\u001b[0;34m\u001b[0m\u001b[0;34m\u001b[0m\u001b[0m\n\u001b[1;32m      3\u001b[0m \u001b[0;34m\u001b[0m\u001b[0m\n\u001b[1;32m      4\u001b[0m \u001b[0;32mif\u001b[0m \u001b[0misinstance\u001b[0m\u001b[0;34m(\u001b[0m\u001b[0ma\u001b[0m\u001b[0;34m|\u001b[0m\u001b[0mb\u001b[0m\u001b[0;34m,\u001b[0m\u001b[0mstr\u001b[0m\u001b[0;34m)\u001b[0m\u001b[0;34m:\u001b[0m\u001b[0;34m\u001b[0m\u001b[0;34m\u001b[0m\u001b[0m\n\u001b[1;32m      5\u001b[0m     \u001b[0mprint\u001b[0m\u001b[0;34m(\u001b[0m\u001b[0;34m'ValueError:'\u001b[0m\u001b[0;34m,\u001b[0m\u001b[0;34m'输入的不是数子，请重新输入'\u001b[0m\u001b[0;34m)\u001b[0m\u001b[0;34m\u001b[0m\u001b[0;34m\u001b[0m\u001b[0m\n",
      "\u001b[0;31mValueError\u001b[0m: invalid literal for int() with base 10: '的'"
     ]
    }
   ],
   "source": [
    "\n",
    "    a = int(input('输入第一个值为'))\n",
    "    b = int(input('输入第二个值为'))\n",
    "  \n",
    "    if isinstance(a|b,str):\n",
    "        print('ValueError:','输入的不是数子，请重新输入')\n",
    "    else:\n",
    "        c = a + b\n",
    "        print(c)\n"
   ]
  },
  {
   "cell_type": "code",
   "execution_count": 4,
   "metadata": {},
   "outputs": [
    {
     "name": "stdout",
     "output_type": "stream",
     "text": [
      "第 2  行 64\n",
      "\n",
      "\n",
      "第 3  行 22\n",
      "\n",
      "\n",
      "第 4  行 28\n",
      "\n",
      "\n",
      "第 5  行 27\n",
      "\n",
      "\n",
      "第 6  行 70\n",
      "\n",
      "\n",
      "第 7  行 87\n",
      "\n",
      "\n",
      "第 8  行 59\n",
      "\n",
      "\n",
      "第 9  行 33\n",
      "\n",
      "\n",
      "第 10  行 77\n",
      "\n",
      "\n"
     ]
    }
   ],
   "source": [
    "\n",
    "i = 1\n",
    "f = open('/home/jiaokailang/桌面/data.txt','r')\n",
    "while i<10:\n",
    "    i+=1    \n",
    "    a = f.readline()+'\\n'\n",
    "    b = list(a)\n",
    "    #c = '第'+i+'行'\n",
    "    print('第',i,' 行',a)\n",
    "f.close()"
   ]
  },
  {
   "cell_type": "code",
   "execution_count": null,
   "metadata": {},
   "outputs": [
    {
     "name": "stdout",
     "output_type": "stream",
     "text": [
      "输入第一个值为还差点发\n",
      "ValueError: 输入的不是数子，请重新输入\n"
     ]
    }
   ],
   "source": [
    "while True:\n",
    "    try:\n",
    "        a = int(input('输入第一个值为'))\n",
    "        b = int(input('输入第二个值为'))\n",
    "        c = a + b\n",
    "        print(c)\n",
    "        break\n",
    "    except ValueError:\n",
    "        print('ValueError:','输入的不是数子，请重新输入')"
   ]
  },
  {
   "cell_type": "code",
   "execution_count": 13,
   "metadata": {},
   "outputs": [
    {
     "ename": "IndexError",
     "evalue": "index 4 is out of bounds for axis 0 with size 1",
     "output_type": "error",
     "traceback": [
      "\u001b[0;31m---------------------------------------------------------------------------\u001b[0m",
      "\u001b[0;31mIndexError\u001b[0m                                Traceback (most recent call last)",
      "\u001b[0;32m<ipython-input-13-3bd9c4e35746>\u001b[0m in \u001b[0;36m<module>\u001b[0;34m\u001b[0m\n\u001b[1;32m      1\u001b[0m \u001b[0;32mimport\u001b[0m \u001b[0mnumpy\u001b[0m \u001b[0;32mas\u001b[0m \u001b[0mnp\u001b[0m\u001b[0;34m\u001b[0m\u001b[0;34m\u001b[0m\u001b[0m\n\u001b[1;32m      2\u001b[0m \u001b[0ma\u001b[0m \u001b[0;34m=\u001b[0m \u001b[0mnp\u001b[0m\u001b[0;34m.\u001b[0m\u001b[0mzeros\u001b[0m\u001b[0;34m(\u001b[0m\u001b[0;34m(\u001b[0m\u001b[0;36m1\u001b[0m\u001b[0;34m,\u001b[0m\u001b[0;36m10\u001b[0m\u001b[0;34m)\u001b[0m\u001b[0;34m,\u001b[0m\u001b[0mdtype\u001b[0m\u001b[0;34m=\u001b[0m\u001b[0mint\u001b[0m\u001b[0;34m)\u001b[0m\u001b[0;34m\u001b[0m\u001b[0;34m\u001b[0m\u001b[0m\n\u001b[0;32m----> 3\u001b[0;31m \u001b[0mb\u001b[0m \u001b[0;34m=\u001b[0m \u001b[0ma\u001b[0m\u001b[0;34m[\u001b[0m\u001b[0;36m4\u001b[0m\u001b[0;34m]\u001b[0m\u001b[0;34m\u001b[0m\u001b[0;34m\u001b[0m\u001b[0m\n\u001b[0m\u001b[1;32m      4\u001b[0m \u001b[0mc\u001b[0m \u001b[0;34m=\u001b[0m \u001b[0;36m1\u001b[0m\u001b[0;34m\u001b[0m\u001b[0;34m\u001b[0m\u001b[0m\n\u001b[1;32m      5\u001b[0m \u001b[0mprint\u001b[0m\u001b[0;34m(\u001b[0m\u001b[0mc\u001b[0m\u001b[0;34m)\u001b[0m\u001b[0;34m\u001b[0m\u001b[0;34m\u001b[0m\u001b[0m\n",
      "\u001b[0;31mIndexError\u001b[0m: index 4 is out of bounds for axis 0 with size 1"
     ]
    }
   ],
   "source": [
    "import numpy as np\n",
    "a = np.zeros((1,10),dtype=int)\n",
    "b = a[4]\n",
    "c = 1\n",
    "print(c)\n"
   ]
  },
  {
   "cell_type": "code",
   "execution_count": 2,
   "metadata": {},
   "outputs": [
    {
     "name": "stdout",
     "output_type": "stream",
     "text": [
      "(array([[-2.86362705e-01, -3.43506042e-01, -8.94427191e-01],\n",
      "       [-5.72725410e-01, -6.87012085e-01,  4.47213595e-01],\n",
      "       [-7.68102861e-01,  6.40326475e-01, -1.96805841e-17]]), array([7.38275013, 2.12014162]), array([[-0.71414144, -0.70000143],\n",
      "       [ 0.70000143, -0.71414144]]))\n"
     ]
    }
   ],
   "source": [
    "from numpy import linalg as lg\n",
    "import numpy as np\n",
    "A = np.array([[1,2],[2,4],[5,3]])\n",
    "u = lg.svd(A)  \n",
    "print(u)"
   ]
  },
  {
   "cell_type": "code",
   "execution_count": null,
   "metadata": {},
   "outputs": [],
   "source": [
    "import re\n",
    "import time\n",
    "from pprint import pprint\n",
    "import numpy as np\n",
    "import pandas as pd\n",
    "from dateutil.parser import parse\n",
    "def get_month_period(month_begin=1,month_end=0):\n",
    "    "
   ]
  },
  {
   "cell_type": "code",
   "execution_count": 4,
   "metadata": {},
   "outputs": [
    {
     "data": {
      "text/plain": [
       "array([[1.5, 0. ],\n",
       "       [0. , 1.5]])"
      ]
     },
     "execution_count": 4,
     "metadata": {},
     "output_type": "execute_result"
    }
   ],
   "source": [
    "import numpy as np\n",
    "import matplotlib.pyplot as plt\n",
    "A = np.array([[1.5,0.5],[0.5,1.5]])\n",
    "B = np.diag([1,1])\n",
    "C = A*B\n",
    "fig = np.figure()\n",
    "t = np.linspace(0,2*np.pi,100)\n",
    "x = \n"
   ]
  },
  {
   "cell_type": "code",
   "execution_count": 12,
   "metadata": {},
   "outputs": [
    {
     "data": {
      "image/png": "[encoded data removed]",
      "text/plain": [
       "<Figure size 432x288 with 1 Axes>"
      ]
     },
     "metadata": {
      "needs_background": "light"
     },
     "output_type": "display_data"
    }
   ],
   "source": [
    "import matplotlib.pyplot as plt\n",
    "import numpy as np\n",
    "def append(A):\n",
    "    eigvector = np.linalg.eig(A)\n",
    "    eigVals = np.diag(np.linalg.eig(A)\n",
    "    newX = np.zeros(len(x))\n",
    "    newY = np.zeros(len(x))\n",
    "                      \n",
    "    t = np.linspace(0,2*np.pi )\n",
    "    #100是生成的样本数\n",
    "    x = np.cos(t)\n",
    "    y = np.sin(t)\n",
    "    plt.figure()\n",
    "    plt.plot(x,y)\n",
    "    plt.xlim(-1.5,1.5)\n",
    "    plt.ylim(-1.5,1.5)\n",
    "    plt.show()"
   ]
  },
  {
   "cell_type": "code",
   "execution_count": null,
   "metadata": {},
   "outputs": [],
   "source": [
    "def "
   ]
  }
 ],
 "metadata": {
  "kernelspec": {
   "display_name": "Python 3",
   "language": "python",
   "name": "python3"
  },
  "language_info": {
   "codemirror_mode": {
    "name": "ipython",
    "version": 3
   },
   "file_extension": ".py",
   "mimetype": "text/x-python",
   "name": "python",
   "nbconvert_exporter": "python",
   "pygments_lexer": "ipython3",
   "version": "3.7.3"
  }
 },
 "nbformat": 4,
 "nbformat_minor": 2
}
