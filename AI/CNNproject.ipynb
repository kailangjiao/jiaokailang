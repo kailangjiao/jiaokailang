{
 "cells": [
  {
   "cell_type": "markdown",
   "metadata": {},
   "source": [
    "# 实验一\n",
    "自定义深度卷积申请网络，并在Kaggle猫/狗数据集上进行训练和测试"
   ]
  },
  {
   "cell_type": "markdown",
   "metadata": {},
   "source": [
    "## 1.加载keras模块"
   ]
  },
  {
   "cell_type": "code",
   "execution_count": 1,
   "metadata": {},
   "outputs": [
    {
     "name": "stderr",
     "output_type": "stream",
     "text": [
      "Using TensorFlow backend.\n"
     ]
    }
   ],
   "source": [
    "#加载ImageDataGenerator模块\n",
    "from keras.preprocessing.image import ImageDataGenerator\n",
    "#加载定义CNN的layers、activate function等模块\n",
    "from keras.layers import Activation,Dropout,Flatten,Dense\n",
    "from keras.models import Sequential\n",
    "from keras.layers import Conv2D,MaxPooling2D\n",
    "#以下为将预测score转换为类别信息的to_categorical、图像预处理等函数\n",
    "from keras.utils import to_categorical \n",
    "from keras.preprocessing.image import img_to_array\n",
    "from keras.applications.vgg16 import preprocess_input\n",
    "from keras import backend as K\n",
    "import numpy as np"
   ]
  },
  {
   "cell_type": "markdown",
   "metadata": {},
   "source": [
    "### 定义CNN网络结构\n",
    "首先尝试：自定义深度CNN结构\n",
    "\n",
    "然后尝试：定义Alex/VGG网络结构\n"
   ]
  },
  {
   "cell_type": "code",
   "execution_count": 2,
   "metadata": {
    "scrolled": true
   },
   "outputs": [],
   "source": [
    "#首先定义图像的长和宽，目的是告诉网络输入图像矩阵的大小，便于搭建网络结构\n",
    "img_width,img_height = 150,150\n",
    "#以下为确认图像的通道分量\n",
    "if K.image_data_format() == 'channels_first':\n",
    "    input_shape = (3, img_width, img_height)\n",
    "else:   #通道是3\n",
    "    input_shape = (img_width, img_height, 3)    #tensorflow的通道参数在最后\n",
    "    \n",
    "#在此定义网络结构    \n",
    "model = Sequential()\n",
    "#在此调用compile函数定义loss function，optimizer和metrics\n",
    "model.add(Conv2D(32,(3,3),activation='relu',input_shape=input_shape))\n",
    "#像素点为148×148×32个， 3×3×32×3+32=896 因为有3×3×3×32个卷即参出需训练 有32 个偏执量（防止梯度爆炸）\n",
    "#在3个通道上卷积，它的卷积参数是不一样的，即3×3×32是在一个通道上卷积，有三个通道。每一个feature maps对应\n",
    "#一个偏执\n",
    "model.add(MaxPooling2D(pool_size=(2,2)))\n",
    "\n",
    "model.add(Conv2D(32,(3,3),activation='relu',input_shape=input_shape))\n",
    "model.add(MaxPooling2D(pool_size=(2,2)))\n",
    "\n",
    "model.add(Conv2D(64,(3,3),activation='relu',input_shape=input_shape))\n",
    "model.add(MaxPooling2D(pool_size=(2,2)))\n",
    "\n",
    "model.add(Flatten())   #flatten(使平坦)函数：返回一个一维数组。它只能用于numpy对象，即array或mat，不适用于list\n",
    "#flatten就是把数组降到一维，默认按行方向降\n",
    "model.add(Dense(64))   #Dense类：他是标准的一维全链接层\n",
    "model.add(Activation('relu'))   #防止梯度消失，但会造成过拟合（一些不是此类的也预测为此类了）\n",
    "model.add(Dropout(0.5))   #防止过拟合\n",
    "model.add(Dense(1))\n",
    "model.add(Activation('sigmoid'))   \n",
    "                                          #compile(编译，编辑)\n",
    "model.compile(loss='binary_crossentropy',   #cross-entropy:交叉熵\n",
    "              optimizer='rmsprop',    #optimizer:优化器\n",
    "             metrics=['accuracy'])       #metric:"
   ]
  },
  {
   "cell_type": "code",
   "execution_count": null,
   "metadata": {},
   "outputs": [],
   "source": []
  },
  {
   "cell_type": "markdown",
   "metadata": {},
   "source": [
    "### 查看model架构\n",
    "\n"
   ]
  },
  {
   "cell_type": "code",
   "execution_count": 3,
   "metadata": {},
   "outputs": [
    {
     "name": "stdout",
     "output_type": "stream",
     "text": [
      "Model: \"sequential_1\"\n",
      "_________________________________________________________________\n",
      "Layer (type)                 Output Shape              Param #   \n",
      "=================================================================\n",
      "conv2d_1 (Conv2D)            (None, 148, 148, 32)      896       \n",
      "_________________________________________________________________\n",
      "max_pooling2d_1 (MaxPooling2 (None, 74, 74, 32)        0         \n",
      "_________________________________________________________________\n",
      "conv2d_2 (Conv2D)            (None, 72, 72, 32)        9248      \n",
      "_________________________________________________________________\n",
      "max_pooling2d_2 (MaxPooling2 (None, 36, 36, 32)        0         \n",
      "_________________________________________________________________\n",
      "conv2d_3 (Conv2D)            (None, 34, 34, 64)        18496     \n",
      "_________________________________________________________________\n",
      "max_pooling2d_3 (MaxPooling2 (None, 17, 17, 64)        0         \n",
      "_________________________________________________________________\n",
      "flatten_1 (Flatten)          (None, 18496)             0         \n",
      "_________________________________________________________________\n",
      "dense_1 (Dense)              (None, 64)                1183808   \n",
      "_________________________________________________________________\n",
      "activation_1 (Activation)    (None, 64)                0         \n",
      "_________________________________________________________________\n",
      "dropout_1 (Dropout)          (None, 64)                0         \n",
      "_________________________________________________________________\n",
      "dense_2 (Dense)              (None, 1)                 65        \n",
      "_________________________________________________________________\n",
      "activation_2 (Activation)    (None, 1)                 0         \n",
      "=================================================================\n",
      "Total params: 1,212,513\n",
      "Trainable params: 1,212,513\n",
      "Non-trainable params: 0\n",
      "_________________________________________________________________\n"
     ]
    }
   ],
   "source": [
    "model.summary()"
   ]
  },
  {
   "cell_type": "markdown",
   "metadata": {},
   "source": [
    "### 定义ImageDataGenerator\n"
   ]
  },
  {
   "cell_type": "code",
   "execution_count": 4,
   "metadata": {},
   "outputs": [
    {
     "name": "stdout",
     "output_type": "stream",
     "text": [
      "Found 10835 images belonging to 2 classes.\n",
      "Found 4000 images belonging to 2 classes.\n"
     ]
    }
   ],
   "source": [
    "#指定train和validation数据路径\n",
    "train_data_dir = r'/home/jiaokailang/文档/机器视觉/11.6/dogs-vs-cats/train'\n",
    "validation_data_dir = r'/home/jiaokailang/文档/机器视觉/11.6/dogs-vs-cats/validation'\n",
    "#指定train和validation数据规模\n",
    "nb_train_samples = 10835    #sample:样本\n",
    "nb_validation_samples = 4000 \n",
    "\n",
    "\n",
    "epochs = 1\n",
    "batch_size = 20\n",
    "\n",
    "#声明ImageDataGenerator类型的train_datagen用于对training图像进行数据像素归一化和扩增\n",
    "train_datagen = ImageDataGenerator(   #此函数：扩充图像数据集\n",
    "    rescale=1. / 255,  #归一化：防止梯度爆炸    #rescale:重新调节\n",
    "    shear_range=0.2,   #shear（修剪）：浮点型。变换角度\n",
    "    zoom_range=0.2,   #zoom（急速移动）：随机缩放\n",
    "    #图像变换，（图像扩增） 变为4张\n",
    "    #训练级是为了增加多种情况。测试集不需要，因为它可能会增加测试难度\n",
    "    horizontal_flip=True)   #水平翻转\n",
    "\n",
    "#声明ImageDataGenerator类型的test_datagen用于对validation图像进行像素归一化\n",
    "test_datagen = ImageDataGenerator(rescale=1. / 255)  \n",
    "#调用flow_from_directory生成train_generator      ##generator:生成器，发生器\n",
    "train_generator = train_datagen.flow_from_directory(   \n",
    "    train_data_dir,\n",
    "    target_size=(img_width, img_height),  #target_size:整数tuple，默认为（256，256）\n",
    "    #color_mode:grayscale/rgb,默认为rgb，此类图片为三通道\n",
    "    batch_size=batch_size,\n",
    "    class_mode='binary')#该参数决定了返回的标签数组的形式，binary:返回1D的二值标签\n",
    "#flow_from_directory函数：使得图片不需要标签，将目录中的图片根据首字母顺序自动贴标签（因为有binary二分类）\n",
    "#此函数生成经过数据提升/归一化后的数据\n",
    "#首字母在前的，为0\n",
    "\n",
    "#调用flow_from_directory生成validation_generator\n",
    "validation_generator = test_datagen.flow_from_directory(\n",
    "    validation_data_dir,\n",
    "    target_size=(img_width, img_height),\n",
    "    batch_size=batch_size,\n",
    "    class_mode='binary')\n",
    "\n",
    "\n"
   ]
  },
  {
   "cell_type": "markdown",
   "metadata": {},
   "source": [
    "### 训练模型\n",
    "\n"
   ]
  },
  {
   "cell_type": "code",
   "execution_count": null,
   "metadata": {
    "scrolled": true
   },
   "outputs": [
    {
     "name": "stdout",
     "output_type": "stream",
     "text": [
      "Epoch 1/1\n",
      "195/541 [=========>....................] - ETA: 14:40 - loss: 0.7214 - accuracy: 0.5587"
     ]
    }
   ],
   "source": [
    "#调用并设置fit_generator函数训练模型   fit(合适的，匹配，安装)\n",
    "model.fit_generator(   \n",
    "    train_generator,  #图片\n",
    "    steps_per_epoch=nb_train_samples // batch_size,\n",
    "    epochs=epochs,\n",
    "    validation_data=validation_generator,   #验证图片\n",
    "    validation_steps=nb_validation_samples // batch_size)\n",
    "#fit_generator:提取图片"
   ]
  },
  {
   "cell_type": "markdown",
   "metadata": {},
   "source": [
    "### 使用训练后模型预测图像\n",
    "\n",
    "\n",
    "\n"
   ]
  },
  {
   "cell_type": "code",
   "execution_count": null,
   "metadata": {},
   "outputs": [],
   "source": [
    "import cv2\n",
    "#调用opencv的imread函数和resize函数读取测试样本并进行尺寸缩放，此处路径可更换\n",
    "img = cv2.resize(cv2.imread(r'/home/jiaokailang/文档/机器视觉/11.6/dogs-vs-cats/test/7.jpg'), (img_width, img_height)).astype(np.float32)\n",
    "\n",
    "#对图像像素矩阵进行tensor类型转换\n",
    "x = img_to_array(img)\n",
    "x = np.expand_dims(x, axis=0)  #numpy.expand_dims:在axis上把数据加上去，即[1,2]-[[1,2]],axis=0表示不变化，axis=1\n",
    "#用训练好的模型对测试样本进行预测\n",
    "score = model.predict(x)\n",
    "#predict:返回一个0-1之间的矩阵\n",
    "\n",
    "print(score)"
   ]
  }
 ],
 "metadata": {
  "kernelspec": {
   "display_name": "Python 3",
   "language": "python",
   "name": "python3"
  },
  "language_info": {
   "codemirror_mode": {
    "name": "ipython",
    "version": 3
   },
   "file_extension": ".py",
   "mimetype": "text/x-python",
   "name": "python",
   "nbconvert_exporter": "python",
   "pygments_lexer": "ipython3",
   "version": "3.7.3"
  },
  "ssap_exp_config": {
   "error_alert": "Error Occurs!",
   "initial": [],
   "max_iteration": 1000,
   "recv_id": "",
   "running": [],
   "summary": [],
   "version": "1.1.1"
  }
 },
 "nbformat": 4,
 "nbformat_minor": 1
}
